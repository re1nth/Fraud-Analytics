{
 "cells": [
  {
   "cell_type": "markdown",
   "metadata": {},
   "source": [
    "### Analysis of the DataSet"
   ]
  },
  {
   "cell_type": "code",
   "execution_count": 4,
   "metadata": {},
   "outputs": [],
   "source": [
    "import pandas as pd\n",
    "import numpy as np\n",
    "import networkx as nx"
   ]
  },
  {
   "cell_type": "markdown",
   "metadata": {},
   "source": [
    "### Preprocessing"
   ]
  },
  {
   "cell_type": "code",
   "execution_count": 5,
   "metadata": {
    "scrolled": true
   },
   "outputs": [],
   "source": [
    "def getSize(fileName):\n",
    "    dataFrame = pd.read_csv(fileName,delimiter=',')\n",
    "    traderList = list(dataFrame['Seller'])\n",
    "    traderList.extend(list(dataFrame['Buyer']))\n",
    "    traderSet = set(traderList)\n",
    "    traderSize = len(traderSet)\n",
    "    return traderSize"
   ]
  },
  {
   "cell_type": "markdown",
   "metadata": {},
   "source": [
    "### Undirected Graph generation"
   ]
  },
  {
   "cell_type": "code",
   "execution_count": 6,
   "metadata": {},
   "outputs": [],
   "source": [
    "# total transaction amount between them is the weight\n",
    "def getUndirectedGraph(fileName):\n",
    "#     K represents k nearest neighbors\n",
    "    dataFrame = pd.read_csv(fileName, delimiter =',')\n",
    "    nodeSize = getSize(fileName)\n",
    "    myGraph = nx.Graph()\n",
    "#     Added nodes to the Graph\n",
    "    myGraph.add_nodes_from(list(range(1, nodeSize+1)))\n",
    "#    Adding edges with weights to the Graph\n",
    "    for ind in dataFrame.index:\n",
    "        u = dataFrame['Seller'][ind]\n",
    "        v = dataFrame['Buyer'][ind]\n",
    "        w = dataFrame['Amt'][ind]\n",
    "        if u in list(myGraph.adj[v]):\n",
    "            myGraph[u][v]['weight']+=w\n",
    "        else :\n",
    "            myGraph.add_edge(u, v, weight = w)\n",
    "    return myGraph\n",
    "\n",
    "undirectedGraph = getUndirectedGraph('dataset.csv')"
   ]
  },
  {
   "cell_type": "markdown",
   "metadata": {},
   "source": [
    "### Directed Graph generation"
   ]
  },
  {
   "cell_type": "code",
   "execution_count": 10,
   "metadata": {},
   "outputs": [],
   "source": [
    "def getDirectedGraph(fileName):\n",
    "    dataFrame = pd.read_csv(fileName, delimiter =',')\n",
    "    nodeSize = getSize(fileName)\n",
    "    myGraph = nx.DiGraph()\n",
    "#     Added nodes to the Graph\n",
    "    myGraph.add_nodes_from(list(range(1, nodeSize+1)))\n",
    "#    Adding edges with weights to the Graph\n",
    "    for ind in dataFrame.index:\n",
    "        u = dataFrame['Seller'][ind]\n",
    "        v = dataFrame['Buyer'][ind]\n",
    "        w = dataFrame['Amt'][ind]\n",
    "        if u in list(myGraph.adj[v]):\n",
    "            myGraph[v][u]['weight']+=w\n",
    "        else :\n",
    "            myGraph.add_edge(u, v, weight = w)\n",
    "    return myGraph\n",
    "\n",
    "DirectedGraph = getDirectedGraph('dataset.csv')"
   ]
  },
  {
   "cell_type": "markdown",
   "metadata": {},
   "source": [
    "### Shared nearest neighbour Clustering Algorithm"
   ]
  },
  {
   "cell_type": "markdown",
   "metadata": {},
   "source": [
    "### K-Nearest Neighbour"
   ]
  },
  {
   "cell_type": "code",
   "execution_count": 35,
   "metadata": {},
   "outputs": [
    {
     "name": "stdout",
     "output_type": "stream",
     "text": [
      "CPU times: user 989 ms, sys: 78.6 ms, total: 1.07 s\n",
      "Wall time: 883 ms\n"
     ]
    }
   ],
   "source": [
    "%%time\n",
    "def kNear(graph, K):\n",
    "    Dict = {}\n",
    "    nodeSize = getSize('dataset.csv')\n",
    "    for node in range(1,nodeSize+1):\n",
    "        neighbors = np.array(sorted(graph[node].items(), key=lambda e: e[1][\"weight\"], reverse=True))\n",
    "        if(neighbors.shape[0]<K):\n",
    "            neighborList = [x[0] for x in neighbors]\n",
    "        else : \n",
    "            neighbors = neighbors[:K]\n",
    "            neighborList = [x[0] for x in neighbors]\n",
    "        Dict[node]=neighborList\n",
    "    return Dict\n",
    "\n",
    "knnGraph = kNear(DirectedGraph, 4)"
   ]
  },
  {
   "cell_type": "markdown",
   "metadata": {},
   "source": [
    "### Union find algorithm"
   ]
  },
  {
   "cell_type": "code",
   "execution_count": 50,
   "metadata": {},
   "outputs": [],
   "source": [
    "nodeSize = getSize('dataset.csv')\n",
    "clusterId = np.array(list(range(nodeSize+1)))\n",
    "clusterSize = np.ones(nodeSize, dtype = int)\n",
    "def parent(u):\n",
    "    while clusterId[u]!=u:\n",
    "        u = clusterId[u]\n",
    "    return u\n",
    "def common(u, v):\n",
    "    neighborU = knnGraph[u]\n",
    "    neighborV = knnGraph[v]\n",
    "    cnt = 0 \n",
    "    for x in neighborU:\n",
    "        if x in neighborV:\n",
    "            cnt = cnt+1\n",
    "    return cnt\n",
    "def union(u, v):\n",
    "    x = parent(u)\n",
    "    y = parent(v)\n",
    "    if clusterSize[x]>clusterSize[y]:\n",
    "        clusterId[y] = x\n",
    "        clusterSize[x]+=clusterSize[y]\n",
    "    else :\n",
    "        clusterId[x] = y \n",
    "        clusterSize[y]+=clusterSize[x]"
   ]
  },
  {
   "cell_type": "markdown",
   "metadata": {},
   "source": [
    "### Shared Nearest Neighbor Algorithm"
   ]
  },
  {
   "cell_type": "code",
   "execution_count": 52,
   "metadata": {},
   "outputs": [
    {
     "ename": "KeyboardInterrupt",
     "evalue": "",
     "output_type": "error",
     "traceback": [
      "\u001b[0;31m---------------------------------------------------------------------------\u001b[0m",
      "\u001b[0;31mKeyboardInterrupt\u001b[0m                         Traceback (most recent call last)",
      "\u001b[0;32m<timed exec>\u001b[0m in \u001b[0;36m<module>\u001b[0;34m\u001b[0m\n",
      "\u001b[0;31mKeyboardInterrupt\u001b[0m: "
     ]
    }
   ],
   "source": [
    "%%time\n",
    "kt = 2\n",
    "for u in range(1, nodeSize+1):\n",
    "    for v in range(1, nodeSize+1):\n",
    "        x = parent(u)\n",
    "        y = parent(v)\n",
    "        if x!= y :\n",
    "            if u in knnGraph[u] and v in knnGraph[u]:\n",
    "                if common(u,v)>=kt:\n",
    "                    union(u,v)\n",
    "# union find\n",
    "# set - > all nodes, each node as it's own cluster\n",
    "# for every (u,v) in G : \n",
    "# if v not in C(u) && if k(u) && k(v)>= kt && u->knn(V) && v->knn(u):\n",
    "# remove c(u), c(v) \n",
    "# add c(u)union c(v) to set S"
   ]
  },
  {
   "cell_type": "markdown",
   "metadata": {},
   "source": [
    "### Final dictionary of Shared nearest neighbor"
   ]
  },
  {
   "cell_type": "code",
   "execution_count": 57,
   "metadata": {
    "scrolled": true
   },
   "outputs": [
    {
     "ename": "KeyError",
     "evalue": "1",
     "output_type": "error",
     "traceback": [
      "\u001b[0;31m---------------------------------------------------------------------------\u001b[0m",
      "\u001b[0;31mKeyError\u001b[0m                                  Traceback (most recent call last)",
      "\u001b[0;32m<ipython-input-57-4a6ec6bf3bf4>\u001b[0m in \u001b[0;36m<module>\u001b[0;34m\u001b[0m\n\u001b[1;32m      6\u001b[0m          \u001b[0mSNNClust\u001b[0m\u001b[0;34m[\u001b[0m\u001b[0mcurrId\u001b[0m\u001b[0;34m]\u001b[0m\u001b[0;34m=\u001b[0m\u001b[0;34m[\u001b[0m\u001b[0mnode\u001b[0m\u001b[0;34m]\u001b[0m\u001b[0;34m\u001b[0m\u001b[0;34m\u001b[0m\u001b[0m\n\u001b[1;32m      7\u001b[0m     \u001b[0;32melse\u001b[0m \u001b[0;34m:\u001b[0m\u001b[0;34m\u001b[0m\u001b[0;34m\u001b[0m\u001b[0m\n\u001b[0;32m----> 8\u001b[0;31m         \u001b[0mSNNClust\u001b[0m\u001b[0;34m[\u001b[0m\u001b[0mcurrId\u001b[0m\u001b[0;34m]\u001b[0m\u001b[0;34m.\u001b[0m\u001b[0mappend\u001b[0m\u001b[0;34m(\u001b[0m\u001b[0mnode\u001b[0m\u001b[0;34m)\u001b[0m\u001b[0;34m\u001b[0m\u001b[0;34m\u001b[0m\u001b[0m\n\u001b[0m\u001b[1;32m      9\u001b[0m     \u001b[0mvis\u001b[0m\u001b[0;34m[\u001b[0m\u001b[0mcurrId\u001b[0m\u001b[0;34m]\u001b[0m \u001b[0;34m=\u001b[0m \u001b[0;36m1\u001b[0m\u001b[0;34m\u001b[0m\u001b[0;34m\u001b[0m\u001b[0m\n",
      "\u001b[0;31mKeyError\u001b[0m: 1"
     ]
    }
   ],
   "source": [
    "SNNClust = {}\n",
    "vis = np.zeros(nodeSize+1, dtype = int)\n",
    "for node in range(1, nodeSize+1):\n",
    "    currId = parent(node)\n",
    "    if vis[currId]==1:\n",
    "         SNNClust[currId]=[node]\n",
    "    else : \n",
    "        SNNClust[currId].append(node)\n",
    "    vis[currId] = 1"
   ]
  },
  {
   "cell_type": "code",
   "execution_count": 56,
   "metadata": {},
   "outputs": [
    {
     "name": "stdout",
     "output_type": "stream",
     "text": [
      "{1: [2, 3]}\n"
     ]
    }
   ],
   "source": []
  },
  {
   "cell_type": "markdown",
   "metadata": {},
   "source": [
    "### Playing with NetworkX"
   ]
  },
  {
   "cell_type": "code",
   "execution_count": null,
   "metadata": {},
   "outputs": [],
   "source": [
    "import networkx as nx"
   ]
  },
  {
   "cell_type": "code",
   "execution_count": null,
   "metadata": {},
   "outputs": [],
   "source": [
    "# Creating a graph\n",
    "G = nx.Graph()"
   ]
  },
  {
   "cell_type": "code",
   "execution_count": null,
   "metadata": {},
   "outputs": [],
   "source": [
    "# Add nodes in the graph\n",
    "G.add_node(1)\n",
    "G.add_nodes_from([2,3])"
   ]
  },
  {
   "cell_type": "code",
   "execution_count": null,
   "metadata": {},
   "outputs": [],
   "source": [
    "# Add edges in the graph with weight\n",
    "G.add_edge(1, 2, weight=4.7 )\n",
    "G.add_edge(1,3, weight = 2.3)"
   ]
  },
  {
   "cell_type": "code",
   "execution_count": null,
   "metadata": {},
   "outputs": [],
   "source": [
    "# Accessing and modifying weight of a graph\n",
    "G[1][2]['weight']+=2"
   ]
  },
  {
   "cell_type": "code",
   "execution_count": null,
   "metadata": {},
   "outputs": [],
   "source": [
    "# Getting number of nodes and edges in the graph\n",
    "print(G.number_of_nodes())\n",
    "print(G.number_of_edges())"
   ]
  },
  {
   "cell_type": "code",
   "execution_count": null,
   "metadata": {},
   "outputs": [],
   "source": [
    "# Node list and Edge List\n",
    "# Neighbor List\n",
    "nodeList = list(G.nodes)\n",
    "edgeList = list(G.edges)\n",
    "n1List = list(G.adj[1])\n",
    "n2List = list(G.adj[2])\n",
    "n3List = list(G.adj[4])\n",
    "print(nodeList)\n",
    "print(edgeList)\n",
    "print(n1List)\n",
    "print(n2List)\n",
    "print(n3List)"
   ]
  },
  {
   "cell_type": "code",
   "execution_count": null,
   "metadata": {},
   "outputs": [],
   "source": [
    "# Remove nodes and edges\n",
    "G.remove_edge(1,2)"
   ]
  },
  {
   "cell_type": "code",
   "execution_count": 8,
   "metadata": {},
   "outputs": [
    {
     "name": "stdout",
     "output_type": "stream",
     "text": [
      "[]\n",
      "(1, 2, 3.200)\n",
      "(1, 3, 4.500)\n",
      "(2, 1, 3.200)\n",
      "[(1, 2), (1, 3), (2, 1)]\n",
      "(1, 2, 3.200)\n",
      "(1, 3, 4.500)\n",
      "[(1, 2), (1, 3)]\n"
     ]
    }
   ],
   "source": [
    "# Creation of diGraph\n",
    "# edges will be doubled\n",
    "H = nx.DiGraph()\n",
    "H.add_node(4)\n",
    "H.add_edge(1,2, weight=2.3)\n",
    "H.add_edge(1,2, weight = 3.2)\n",
    "H.add_edge(2, 1, weight=3.2)\n",
    "H.add_edge(1, 3, weight = 4.5)\n",
    "print(list(H.adj[4]))\n",
    "for (u, v, wt) in H.edges.data('weight'):\n",
    "    print('(%d, %d, %.3f)' % (u, v, wt))\n",
    "print(list(H.edges))\n",
    "S = H.to_undirected()\n",
    "for (u, v, wt) in S.edges.data('weight'):\n",
    "    print('(%d, %d, %.3f)' % (u, v, wt))\n",
    "print(list(S.edges))"
   ]
  },
  {
   "cell_type": "code",
   "execution_count": 30,
   "metadata": {},
   "outputs": [
    {
     "name": "stdout",
     "output_type": "stream",
     "text": [
      "15.2\n",
      "(3, 2)\n",
      "[[2 {'weight': 15.2}]\n",
      " [4 {'weight': 2.4}]\n",
      " [3 {'weight': 2.0}]]\n",
      "2\n",
      "4\n",
      "3\n"
     ]
    }
   ],
   "source": [
    "# creationg of normal Graph\n",
    "# edges weight will be added\n",
    "S = nx.Graph()\n",
    "S.add_edge(1,2, weight=2.3)\n",
    "S.add_edge(1,4, weight = 2.4)\n",
    "S.add_edge(2, 1, weight=3.2)\n",
    "S.add_edge(1, 3, weight = 2.0)\n",
    "S.add_edge(2,3,weight=2.8)\n",
    "S[1][2]['weight']+=2.0\n",
    "S[2][1]['weight']+=10.0\n",
    "print(S[1][2]['weight'])\n",
    "foo = np.array((sorted(S[1].items(), key=lambda e: e[1][\"weight\"], reverse=True)))[:K]\n",
    "print(foo.shape)\n",
    "print(foo)\n",
    "for (x, y) in foo:\n",
    "    print(x)"
   ]
  },
  {
   "cell_type": "code",
   "execution_count": null,
   "metadata": {},
   "outputs": [],
   "source": [
    "# Accessing edges and neighbors\n",
    "print(G[1][3]['weight'])\n",
    "print(G[1])"
   ]
  },
  {
   "cell_type": "code",
   "execution_count": null,
   "metadata": {},
   "outputs": [],
   "source": []
  }
 ],
 "metadata": {
  "kernelspec": {
   "display_name": "Python 3",
   "language": "python",
   "name": "python3"
  },
  "language_info": {
   "codemirror_mode": {
    "name": "ipython",
    "version": 3
   },
   "file_extension": ".py",
   "mimetype": "text/x-python",
   "name": "python",
   "nbconvert_exporter": "python",
   "pygments_lexer": "ipython3",
   "version": "3.7.1"
  }
 },
 "nbformat": 4,
 "nbformat_minor": 2
}
