{
 "cells": [
  {
   "cell_type": "markdown",
   "metadata": {},
   "source": [
    "### Analysis of the DataSet"
   ]
  },
  {
   "cell_type": "code",
   "execution_count": 4,
   "metadata": {},
   "outputs": [],
   "source": [
    "import pandas as pd\n",
    "import numpy as np\n",
    "import networkx as nx"
   ]
  },
  {
   "cell_type": "markdown",
   "metadata": {},
   "source": [
    "### Preprocessing"
   ]
  },
  {
   "cell_type": "code",
   "execution_count": 5,
   "metadata": {
    "scrolled": true
   },
   "outputs": [],
   "source": [
    "def getSize(fileName):\n",
    "    dataFrame = pd.read_csv(fileName,delimiter=',')\n",
    "    traderList = list(dataFrame['Seller'])\n",
    "    traderList.extend(list(dataFrame['Buyer']))\n",
    "    traderSet = set(traderList)\n",
    "    traderSize = len(traderSet)\n",
    "    return traderSize"
   ]
  },
  {
   "cell_type": "markdown",
   "metadata": {},
   "source": [
    "### Undirected Graph generation"
   ]
  },
  {
   "cell_type": "code",
   "execution_count": 6,
   "metadata": {},
   "outputs": [],
   "source": [
    "# total transaction amount between them is the weight\n",
    "def getUndirectedGraph(fileName):\n",
    "#     K represents k nearest neighbors\n",
    "    dataFrame = pd.read_csv(fileName, delimiter =',')\n",
    "    nodeSize = getSize(fileName)\n",
    "    myGraph = nx.Graph()\n",
    "#     Added nodes to the Graph\n",
    "    myGraph.add_nodes_from(list(range(1, nodeSize+1)))\n",
    "#    Adding edges with weights to the Graph\n",
    "    for ind in dataFrame.index:\n",
    "        u = dataFrame['Seller'][ind]\n",
    "        v = dataFrame['Buyer'][ind]\n",
    "        w = dataFrame['Amt'][ind]\n",
    "        if u in list(myGraph.adj[v]):\n",
    "            myGraph[u][v]['weight']+=w\n",
    "        else :\n",
    "            myGraph.add_edge(u, v, weight = w)\n",
    "    return myGraph\n",
    "\n",
    "undirectedGraph = getUndirectedGraph('dataset.csv')"
   ]
  },
  {
   "cell_type": "markdown",
   "metadata": {},
   "source": [
    "### Directed Graph generation"
   ]
  },
  {
   "cell_type": "code",
   "execution_count": 10,
   "metadata": {},
   "outputs": [],
   "source": [
    "def getDirectedGraph(fileName):\n",
    "    dataFrame = pd.read_csv(fileName, delimiter =',')\n",
    "    nodeSize = getSize(fileName)\n",
    "    myGraph = nx.DiGraph()\n",
    "#     Added nodes to the Graph\n",
    "    myGraph.add_nodes_from(list(range(1, nodeSize+1)))\n",
    "#    Adding edges with weights to the Graph\n",
    "    for ind in dataFrame.index:\n",
    "        u = dataFrame['Seller'][ind]\n",
    "        v = dataFrame['Buyer'][ind]\n",
    "        w = dataFrame['Amt'][ind]\n",
    "        if u in list(myGraph.adj[v]):\n",
    "            myGraph[v][u]['weight']+=w\n",
    "        else :\n",
    "            myGraph.add_edge(u, v, weight = w)\n",
    "    return myGraph\n",
    "\n",
    "DirectedGraph = getDirectedGraph('dataset.csv')"
   ]
  },
  {
   "cell_type": "markdown",
   "metadata": {},
   "source": [
    "### Experimentation with different Algorithms"
   ]
  },
  {
   "cell_type": "code",
   "execution_count": null,
   "metadata": {},
   "outputs": [],
   "source": [
    "from networkx.algorithms import centrality\n",
    "centralityGraph = centrality.edge_current_flow_betweenness_centrality(graph)"
   ]
  },
  {
   "cell_type": "markdown",
   "metadata": {},
   "source": []
  },
  {
   "cell_type": "code",
   "execution_count": null,
   "metadata": {},
   "outputs": [],
   "source": []
  },
  {
   "cell_type": "code",
   "execution_count": null,
   "metadata": {},
   "outputs": [],
   "source": []
  },
  {
   "cell_type": "markdown",
   "metadata": {},
   "source": [
    "### Playing with NetworkX"
   ]
  },
  {
   "cell_type": "code",
   "execution_count": null,
   "metadata": {},
   "outputs": [],
   "source": [
    "import networkx as nx"
   ]
  },
  {
   "cell_type": "code",
   "execution_count": null,
   "metadata": {},
   "outputs": [],
   "source": [
    "# Creating a graph\n",
    "G = nx.Graph()"
   ]
  },
  {
   "cell_type": "code",
   "execution_count": null,
   "metadata": {},
   "outputs": [],
   "source": [
    "# Add nodes in the graph\n",
    "G.add_node(1)\n",
    "G.add_nodes_from([2,3])"
   ]
  },
  {
   "cell_type": "code",
   "execution_count": null,
   "metadata": {},
   "outputs": [],
   "source": [
    "# Add edges in the graph with weight\n",
    "G.add_edge(1, 2, weight=4.7 )\n",
    "G.add_edge(1,3, weight = 2.3)"
   ]
  },
  {
   "cell_type": "code",
   "execution_count": null,
   "metadata": {},
   "outputs": [],
   "source": [
    "# Accessing and modifying weight of a graph\n",
    "G[1][2]['weight']+=2"
   ]
  },
  {
   "cell_type": "code",
   "execution_count": null,
   "metadata": {},
   "outputs": [],
   "source": [
    "# Getting number of nodes and edges in the graph\n",
    "print(G.number_of_nodes())\n",
    "print(G.number_of_edges())"
   ]
  },
  {
   "cell_type": "code",
   "execution_count": null,
   "metadata": {},
   "outputs": [],
   "source": [
    "# Node list and Edge List\n",
    "# Neighbor List\n",
    "nodeList = list(G.nodes)\n",
    "edgeList = list(G.edges)\n",
    "n1List = list(G.adj[1])\n",
    "n2List = list(G.adj[2])\n",
    "n3List = list(G.adj[4])\n",
    "print(nodeList)\n",
    "print(edgeList)\n",
    "print(n1List)\n",
    "print(n2List)\n",
    "print(n3List)"
   ]
  },
  {
   "cell_type": "code",
   "execution_count": null,
   "metadata": {},
   "outputs": [],
   "source": [
    "# Remove nodes and edges\n",
    "G.remove_edge(1,2)"
   ]
  },
  {
   "cell_type": "code",
   "execution_count": 8,
   "metadata": {},
   "outputs": [
    {
     "name": "stdout",
     "output_type": "stream",
     "text": [
      "[]\n",
      "(1, 2, 3.200)\n",
      "(1, 3, 4.500)\n",
      "(2, 1, 3.200)\n",
      "[(1, 2), (1, 3), (2, 1)]\n",
      "(1, 2, 3.200)\n",
      "(1, 3, 4.500)\n",
      "[(1, 2), (1, 3)]\n"
     ]
    }
   ],
   "source": [
    "# Creation of diGraph\n",
    "# edges will be doubled\n",
    "H = nx.DiGraph()\n",
    "H.add_node(4)\n",
    "H.add_edge(1,2, weight=2.3)\n",
    "H.add_edge(1,2, weight = 3.2)\n",
    "H.add_edge(2, 1, weight=3.2)\n",
    "H.add_edge(1, 3, weight = 4.5)\n",
    "print(list(H.adj[4]))\n",
    "for (u, v, wt) in H.edges.data('weight'):\n",
    "    print('(%d, %d, %.3f)' % (u, v, wt))\n",
    "print(list(H.edges))\n",
    "S = H.to_undirected()\n",
    "for (u, v, wt) in S.edges.data('weight'):\n",
    "    print('(%d, %d, %.3f)' % (u, v, wt))\n",
    "print(list(S.edges))"
   ]
  },
  {
   "cell_type": "code",
   "execution_count": null,
   "metadata": {},
   "outputs": [],
   "source": [
    "# creationg of normal Graph\n",
    "# edges weight will be added\n",
    "S = nx.Graph()\n",
    "S.add_edge(1,2, weight=2.3)\n",
    "S.add_edge(2, 1, weight=3.2)\n",
    "S[1][2]['weight']+=2.0\n",
    "S[2][1]['weight']+=10.0\n",
    "print(S[1][2]['weight'])"
   ]
  },
  {
   "cell_type": "code",
   "execution_count": null,
   "metadata": {},
   "outputs": [],
   "source": [
    "# Accessing edges and neighbors\n",
    "print(G[1][3]['weight'])\n",
    "print(G[1])"
   ]
  }
 ],
 "metadata": {
  "kernelspec": {
   "display_name": "Python 3",
   "language": "python",
   "name": "python3"
  },
  "language_info": {
   "codemirror_mode": {
    "name": "ipython",
    "version": 3
   },
   "file_extension": ".py",
   "mimetype": "text/x-python",
   "name": "python",
   "nbconvert_exporter": "python",
   "pygments_lexer": "ipython3",
   "version": "3.7.1"
  }
 },
 "nbformat": 4,
 "nbformat_minor": 2
}
