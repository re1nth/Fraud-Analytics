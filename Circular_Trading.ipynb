{
 "cells": [
  {
   "cell_type": "markdown",
   "metadata": {
    "colab_type": "text",
    "id": "XQfyafR2p4Pc"
   },
   "source": [
    "### Analysis of the DataSet"
   ]
  },
  {
   "cell_type": "code",
   "execution_count": 52,
   "metadata": {
    "colab": {},
    "colab_type": "code",
    "id": "afMJwSagp4Pm"
   },
   "outputs": [],
   "source": [
    "import pandas as pd\n",
    "import numpy as np\n",
    "import networkx as nx\n",
    "import csv"
   ]
  },
  {
   "cell_type": "markdown",
   "metadata": {
    "colab_type": "text",
    "id": "sge7l6xnp4P5"
   },
   "source": [
    "### Preprocessing"
   ]
  },
  {
   "cell_type": "code",
   "execution_count": 53,
   "metadata": {
    "colab": {},
    "colab_type": "code",
    "id": "VYmxVNaKp4P9",
    "scrolled": true
   },
   "outputs": [],
   "source": [
    "def getSize(fileName):\n",
    "    dataFrame = pd.read_csv(fileName,delimiter=',')\n",
    "    traderList = list(dataFrame['Seller'])\n",
    "    traderList.extend(list(dataFrame['Buyer']))\n",
    "    traderSet = set(traderList)\n",
    "    traderSize = len(traderSet)\n",
    "    return traderSize"
   ]
  },
  {
   "cell_type": "markdown",
   "metadata": {
    "colab_type": "text",
    "id": "unSmwPn1p4QL"
   },
   "source": [
    "### Undirected Graph generation"
   ]
  },
  {
   "cell_type": "code",
   "execution_count": 54,
   "metadata": {
    "colab": {},
    "colab_type": "code",
    "id": "IkZiDuInp4QO"
   },
   "outputs": [],
   "source": [
    "# total transaction amount between them is the weight\n",
    "def getUndirectedGraph(fileName):\n",
    "#     K represents k nearest neighbors\n",
    "    dataFrame = pd.read_csv(fileName, delimiter =',')\n",
    "    nodeSize = getSize(fileName)\n",
    "    myGraph = nx.Graph()\n",
    "#     Added nodes to the Graph\n",
    "    myGraph.add_nodes_from(list(range(1, nodeSize+1)))\n",
    "#    Adding edges with weights to the Graph\n",
    "    buyer = []\n",
    "    seller = []\n",
    "    trader = []\n",
    "    for ind in dataFrame.index:\n",
    "        u = dataFrame['Seller'][ind]\n",
    "        v = dataFrame['Buyer'][ind]\n",
    "        seller.append(u)\n",
    "        buyer.append(v)\n",
    "    \n",
    "    vSeller = np.zeros(nodeSize+1)\n",
    "    vBuyer = np.zeros(nodeSize+1)\n",
    "\n",
    "    for x in seller:\n",
    "        vSeller[x] =1 \n",
    "    for x in buyer:\n",
    "        vBuyer[x] = 1 \n",
    "\n",
    "    for ind in dataFrame.index:\n",
    "        u = dataFrame['Seller'][ind]\n",
    "        v = dataFrame['Buyer'][ind]\n",
    "        w = dataFrame['Amt'][ind]\n",
    "        if (vSeller[u]==1) and (vBuyer[u]==1) and (vSeller[v]==1) and (vBuyer[v]==1) and(u!=v):\n",
    "            trader.append(u)\n",
    "            trader.append(v)\n",
    "            if u in list(myGraph.adj[v]):\n",
    "                myGraph[u][v]['weight']+=w\n",
    "            else :\n",
    "                myGraph.add_edge(u, v, weight = w)\n",
    "    return (myGraph,list(set(trader)))\n",
    "\n",
    "(undirectedGraph,nodeSet) = getUndirectedGraph('dataset.csv')"
   ]
  },
  {
   "cell_type": "markdown",
   "metadata": {
    "colab_type": "text",
    "id": "9gg63tdNp4Qc"
   },
   "source": [
    "### Directed Graph generation"
   ]
  },
  {
   "cell_type": "code",
   "execution_count": 97,
   "metadata": {
    "colab": {},
    "colab_type": "code",
    "id": "BFgWejo0p4Qg"
   },
   "outputs": [],
   "source": [
    "def getDirectedGraph(fileName):\n",
    "    dataFrame = pd.read_csv(fileName, delimiter =',')\n",
    "    nodeSize = getSize(fileName)\n",
    "    myGraph = nx.DiGraph()\n",
    "#     Added nodes to the Graph\n",
    "    myGraph.add_nodes_from(list(range(1, nodeSize+1)))\n",
    "#    Adding edges with weights to the Graph \n",
    "    for ind in dataFrame.index:\n",
    "        u = dataFrame['Seller'][ind]\n",
    "        v = dataFrame['Buyer'][ind]\n",
    "        w = dataFrame['Amt'][ind]\n",
    "        if u in list(myGraph.adj[v]):\n",
    "            myGraph[v][u]['weight']+=w\n",
    "        else :\n",
    "            myGraph.add_edge(v, u, weight = w)\n",
    "    return myGraph\n",
    "\n",
    "DirectedGraph = getDirectedGraph('dataset.csv')"
   ]
  },
  {
   "cell_type": "markdown",
   "metadata": {
    "colab_type": "text",
    "id": "Eod2_nw7p4Qr"
   },
   "source": [
    "### Shared nearest neighbour Clustering Algorithm"
   ]
  },
  {
   "cell_type": "markdown",
   "metadata": {
    "colab_type": "text",
    "id": "uwTaVRc4p4Qv"
   },
   "source": [
    "### K-Nearest Neighbour"
   ]
  },
  {
   "cell_type": "code",
   "execution_count": 56,
   "metadata": {
    "colab": {
     "base_uri": "https://localhost:8080/",
     "height": 54
    },
    "colab_type": "code",
    "id": "kqnl8-KKp4Qx",
    "outputId": "74bb0eba-a8da-48fb-da5b-9498a7b24560"
   },
   "outputs": [
    {
     "name": "stdout",
     "output_type": "stream",
     "text": [
      "CPU times: user 202 ms, sys: 5.59 ms, total: 208 ms\n",
      "Wall time: 216 ms\n"
     ]
    }
   ],
   "source": [
    "%%time\n",
    "def kNear(graph, K):\n",
    "    Dict = {}\n",
    "    for node in nodeSet:\n",
    "        neighbors = np.array(sorted(graph[node].items(), key=lambda e: e[1][\"weight\"], reverse=True))\n",
    "        if(neighbors.shape[0]<K):\n",
    "            neighborList = [x[0] for x in neighbors]\n",
    "        else : \n",
    "            neighbors = neighbors[:K]\n",
    "            neighborList = [x[0] for x in neighbors]\n",
    "        Dict[node]=neighborList\n",
    "    return Dict\n",
    "\n",
    "knnGraph = kNear(undirectedGraph, 6)"
   ]
  },
  {
   "cell_type": "markdown",
   "metadata": {
    "colab_type": "text",
    "id": "ycCPLjESp4RA"
   },
   "source": [
    "### Union find algorithm"
   ]
  },
  {
   "cell_type": "code",
   "execution_count": 136,
   "metadata": {
    "colab": {},
    "colab_type": "code",
    "id": "POXZakY9p4RC"
   },
   "outputs": [],
   "source": [
    "nodeSize = getSize('dataset.csv')\n",
    "clusterId = np.array(list(range(nodeSize+1)))\n",
    "clusterSize = np.ones(nodeSize, dtype = int)\n",
    "def parent(u):\n",
    "    while clusterId[u]!=u:\n",
    "        u = clusterId[u]\n",
    "    return u\n",
    "def common(u, v):\n",
    "    neighborU = knnGraph[u]\n",
    "    neighborV = knnGraph[v]\n",
    "    return len(list(set(neighborU)&set(neighborV)))\n",
    "def union(u, v):\n",
    "    x = parent(u)\n",
    "    y = parent(v)\n",
    "    global clusterId\n",
    "    global clusterSize\n",
    "    if clusterSize[x]>clusterSize[y]:\n",
    "        clusterId[y] = x\n",
    "        clusterSize[x]+=clusterSize[y]\n",
    "    else :\n",
    "        clusterId[x] = y \n",
    "        clusterSize[y]+=clusterSize[x]"
   ]
  },
  {
   "cell_type": "markdown",
   "metadata": {
    "colab_type": "text",
    "id": "w_LYEd44p4RP"
   },
   "source": [
    "### Shared Nearest Neighbor Algorithm"
   ]
  },
  {
   "cell_type": "code",
   "execution_count": 137,
   "metadata": {
    "colab": {
     "base_uri": "https://localhost:8080/",
     "height": 54
    },
    "colab_type": "code",
    "id": "14QLZuqep4RS",
    "outputId": "95f0c5ac-31be-4912-fff2-bfcf9ec031d0"
   },
   "outputs": [
    {
     "name": "stdout",
     "output_type": "stream",
     "text": [
      "CPU times: user 1min 4s, sys: 243 ms, total: 1min 4s\n",
      "Wall time: 1min 5s\n"
     ]
    }
   ],
   "source": [
    "%%time\n",
    "kt = 2\n",
    "for u in nodeSet:\n",
    "    for v in nodeSet:\n",
    "        x = parent(u)\n",
    "        y = parent(v)\n",
    "        if x!= y :\n",
    "            if (u in knnGraph[v]) and (v in knnGraph[u]):\n",
    "                if common(u,v)>=kt:\n",
    "                    union(u,v)\n",
    "# union find\n",
    "# set - > all nodes, each node as it's own cluster\n",
    "# for every (u,v) in G : \n",
    "# if v not in C(u) && if k(u) && k(v)>= kt && u->knn(V) && v->knn(u):\n",
    "# remove c(u), c(v) \n",
    "# add c(u)union c(v) to set S"
   ]
  },
  {
   "cell_type": "markdown",
   "metadata": {
    "colab_type": "text",
    "id": "epFLPJtqp4Rc"
   },
   "source": [
    "### Final dictionary of Shared nearest neighbor"
   ]
  },
  {
   "cell_type": "code",
   "execution_count": 138,
   "metadata": {
    "colab": {},
    "colab_type": "code",
    "id": "E_KitADJp4Rg",
    "scrolled": true
   },
   "outputs": [
    {
     "name": "stdout",
     "output_type": "stream",
     "text": [
      "32371\n"
     ]
    }
   ],
   "source": [
    "SNNClust = {}\n",
    "vis = np.zeros(nodeSize+1, dtype = int)\n",
    "for node in range(1, nodeSize+1):\n",
    "    currId = parent(node)\n",
    "    if vis[currId]==0:\n",
    "        SNNClust[currId]=[node]\n",
    "    else:\n",
    "        SNNClust[currId].append(node)\n",
    "    vis[currId] = 1\n",
    "print(len(SNNClust))"
   ]
  },
  {
   "cell_type": "code",
   "execution_count": 140,
   "metadata": {
    "colab": {
     "base_uri": "https://localhost:8080/",
     "height": 35
    },
    "colab_type": "code",
    "id": "3EOxHp5Bp4R7",
    "outputId": "0e8d6c31-ed35-40e1-ad83-a3b9f011e8f6"
   },
   "outputs": [],
   "source": [
    "Dict = {}\n",
    "for x in SNNClust:\n",
    "    if len(SNNClust[x])>2:\n",
    "        Dict[x]=SNNClust[x]"
   ]
  },
  {
   "cell_type": "code",
   "execution_count": 141,
   "metadata": {
    "colab": {},
    "colab_type": "code",
    "id": "u7TnwZ9q_sVu"
   },
   "outputs": [],
   "source": [
    "w = csv.writer(open(\"Shared_Nearest_Neighbor.csv\", \"w\"))\n",
    "for key, val in Dict.items():\n",
    "    w.writerow([key, val])"
   ]
  },
  {
   "cell_type": "markdown",
   "metadata": {
    "colab": {},
    "colab_type": "code",
    "id": "mQXHWogJp4Tb"
   },
   "source": [
    "### Mutual Nearest Neighbour"
   ]
  },
  {
   "cell_type": "code",
   "execution_count": 164,
   "metadata": {},
   "outputs": [],
   "source": [
    "knnGraph = kNear(DirectedGraph, 6)\n",
    "DictofClusters = {}\n",
    "for i in nodeSet:\n",
    "    DictofClusters[i] = [i]"
   ]
  },
  {
   "cell_type": "code",
   "execution_count": 165,
   "metadata": {},
   "outputs": [],
   "source": [
    "def mnvForNodes(u, v):\n",
    "    listU = knnGraph[u]\n",
    "    listV = knnGraph[v]\n",
    "    rankOfVinU = 100\n",
    "    rankOfUinV = 100\n",
    "    \n",
    "    for i in range(len(listU)):\n",
    "        if listU[i]==v:\n",
    "            rankOfVinU = i+1\n",
    "            break\n",
    "            \n",
    "    for i in range(len(listV)):\n",
    "        if listV[i]==u:\n",
    "            rankOfUinV = i+1\n",
    "            break\n",
    "\n",
    "    return rankOfUinV+rankOfVinU"
   ]
  },
  {
   "cell_type": "code",
   "execution_count": 166,
   "metadata": {},
   "outputs": [],
   "source": [
    "def mnvForClusters(c1, c2):\n",
    "    cluster1 = DictofClusters[c1]\n",
    "    cluster2 = DictofClusters[c2]\n",
    "    s = 0\n",
    "    for u in cluster1:\n",
    "        for v in cluster2:\n",
    "            val = mnvForNodes(u, v)\n",
    "            s = s + val\n",
    "    length = len(cluster1) * len(cluster2)\n",
    "    return s/length"
   ]
  },
  {
   "cell_type": "code",
   "execution_count": 167,
   "metadata": {},
   "outputs": [
    {
     "name": "stdout",
     "output_type": "stream",
     "text": [
      "CPU times: user 2min 36s, sys: 5.83 s, total: 2min 42s\n",
      "Wall time: 2min 45s\n"
     ]
    }
   ],
   "source": [
    "%%time\n",
    "mnvSet = set([])\n",
    "# for all pairs of clusters, find the mnv and insert into the set\n",
    "for c1 in nodeSet:\n",
    "    for c2 in nodeSet:\n",
    "        if c1!=c2:\n",
    "            currVal = mnvForClusters(c1, c2)\n",
    "            mnvSet.add((currVal, c1, c2))"
   ]
  },
  {
   "cell_type": "code",
   "execution_count": 168,
   "metadata": {},
   "outputs": [
    {
     "name": "stdout",
     "output_type": "stream",
     "text": [
      "CPU times: user 8 µs, sys: 1e+03 ns, total: 9 µs\n",
      "Wall time: 14.1 µs\n"
     ]
    }
   ],
   "source": [
    "%%time\n",
    "def mutual_NN_neighbour(numofClusters, maxMNV):\n",
    "    global DictofClusters\n",
    "    global mnvSet\n",
    "    totalClusters = len(DictofClusters)\n",
    "    print(\"All pair combination calculations done\")\n",
    "#     keep iterating while you didn't get required number of clusters\n",
    "    cnt = 0 \n",
    "    while totalClusters>numofClusters:\n",
    "        minCluster = min(mnvSet)\n",
    "        minU = minCluster[1]\n",
    "        minV = minCluster[2]\n",
    "        minNodes = [minU, minV]\n",
    "#         remove all pairs which are either of minU,minV\n",
    "        for c1 in DictofClusters:\n",
    "            for node in minNodes:\n",
    "                val = mnvForClusters(c1, node)\n",
    "                pair1 = (val, c1, node)\n",
    "                pair2 = (val, node, c1)\n",
    "                if pair1 in mnvSet:\n",
    "                    mnvSet.remove(pair1)\n",
    "                if pair2 in mnvSet:\n",
    "                    mnvSet.remove(pair2)\n",
    "#       remove two clusters and combine them into one\n",
    "        for v in DictofClusters[minV]:\n",
    "            DictofClusters[minU].append(v)\n",
    "        del DictofClusters[minV]\n",
    "#         insert all the mnvs of the new clusters with the clusters existing\n",
    "        for c1 in DictofClusters:\n",
    "            if minU!=c1:\n",
    "                currVal = mnvForClusters(c1, minU)\n",
    "                mnvSet.add((currVal, c1, minU))\n",
    "        print(\"Iteration \", cnt+1, \"completed\")\n",
    "        cnt+=1\n",
    "        totalClusters -=1\n",
    "#         remove all the elements computing with c1, c2\n",
    "# do the manipulations in the dictionary\n",
    "# calculate the clustered one with every other cluster\n",
    "# and push it into the set"
   ]
  },
  {
   "cell_type": "code",
   "execution_count": 175,
   "metadata": {
    "scrolled": true
   },
   "outputs": [
    {
     "name": "stdout",
     "output_type": "stream",
     "text": [
      "All pair combination calculations done\n",
      "Iteration  1 completed\n",
      "Iteration  2 completed\n",
      "Iteration  3 completed\n",
      "Iteration  4 completed\n",
      "Iteration  5 completed\n",
      "Iteration  6 completed\n",
      "Iteration  7 completed\n",
      "Iteration  8 completed\n",
      "Iteration  9 completed\n",
      "Iteration  10 completed\n",
      "Iteration  11 completed\n",
      "Iteration  12 completed\n",
      "Iteration  13 completed\n",
      "Iteration  14 completed\n",
      "Iteration  15 completed\n",
      "Iteration  16 completed\n",
      "Iteration  17 completed\n",
      "Iteration  18 completed\n",
      "Iteration  19 completed\n",
      "Iteration  20 completed\n",
      "Iteration  21 completed\n",
      "Iteration  22 completed\n",
      "Iteration  23 completed\n",
      "Iteration  24 completed\n",
      "Iteration  25 completed\n",
      "Iteration  26 completed\n",
      "Iteration  27 completed\n",
      "Iteration  28 completed\n",
      "Iteration  29 completed\n",
      "Iteration  30 completed\n",
      "Iteration  31 completed\n",
      "Iteration  32 completed\n",
      "Iteration  33 completed\n",
      "Iteration  34 completed\n",
      "Iteration  35 completed\n",
      "Iteration  36 completed\n",
      "Iteration  37 completed\n",
      "Iteration  38 completed\n",
      "Iteration  39 completed\n",
      "Iteration  40 completed\n",
      "Iteration  41 completed\n",
      "Iteration  42 completed\n",
      "Iteration  43 completed\n",
      "Iteration  44 completed\n",
      "Iteration  45 completed\n",
      "Iteration  46 completed\n",
      "Iteration  47 completed\n",
      "Iteration  48 completed\n",
      "Iteration  49 completed\n",
      "Iteration  50 completed\n",
      "Iteration  51 completed\n",
      "Iteration  52 completed\n",
      "Iteration  53 completed\n",
      "Iteration  54 completed\n",
      "Iteration  55 completed\n",
      "Iteration  56 completed\n",
      "Iteration  57 completed\n",
      "Iteration  58 completed\n",
      "Iteration  59 completed\n",
      "Iteration  60 completed\n",
      "Iteration  61 completed\n",
      "Iteration  62 completed\n",
      "Iteration  63 completed\n",
      "Iteration  64 completed\n",
      "Iteration  65 completed\n",
      "Iteration  66 completed\n",
      "Iteration  67 completed\n",
      "Iteration  68 completed\n",
      "Iteration  69 completed\n",
      "Iteration  70 completed\n",
      "Iteration  71 completed\n",
      "Iteration  72 completed\n",
      "Iteration  73 completed\n",
      "Iteration  74 completed\n",
      "Iteration  75 completed\n",
      "Iteration  76 completed\n",
      "Iteration  77 completed\n",
      "Iteration  78 completed\n",
      "Iteration  79 completed\n",
      "Iteration  80 completed\n",
      "Iteration  81 completed\n",
      "Iteration  82 completed\n",
      "Iteration  83 completed\n",
      "Iteration  84 completed\n",
      "Iteration  85 completed\n",
      "Iteration  86 completed\n",
      "Iteration  87 completed\n",
      "Iteration  88 completed\n",
      "Iteration  89 completed\n",
      "Iteration  90 completed\n",
      "Iteration  91 completed\n",
      "Iteration  92 completed\n",
      "Iteration  93 completed\n",
      "Iteration  94 completed\n",
      "Iteration  95 completed\n",
      "Iteration  96 completed\n",
      "Iteration  97 completed\n",
      "Iteration  98 completed\n",
      "Iteration  99 completed\n",
      "Iteration  100 completed\n",
      "Iteration  101 completed\n",
      "Iteration  102 completed\n",
      "Iteration  103 completed\n",
      "Iteration  104 completed\n",
      "Iteration  105 completed\n",
      "Iteration  106 completed\n",
      "Iteration  107 completed\n",
      "Iteration  108 completed\n",
      "Iteration  109 completed\n",
      "Iteration  110 completed\n",
      "Iteration  111 completed\n",
      "Iteration  112 completed\n",
      "Iteration  113 completed\n",
      "Iteration  114 completed\n",
      "Iteration  115 completed\n",
      "Iteration  116 completed\n",
      "Iteration  117 completed\n",
      "Iteration  118 completed\n",
      "Iteration  119 completed\n",
      "Iteration  120 completed\n",
      "Iteration  121 completed\n",
      "Iteration  122 completed\n",
      "Iteration  123 completed\n",
      "Iteration  124 completed\n",
      "Iteration  125 completed\n",
      "Iteration  126 completed\n",
      "Iteration  127 completed\n",
      "Iteration  128 completed\n",
      "Iteration  129 completed\n",
      "Iteration  130 completed\n",
      "Iteration  131 completed\n",
      "Iteration  132 completed\n",
      "Iteration  133 completed\n",
      "Iteration  134 completed\n",
      "Iteration  135 completed\n",
      "Iteration  136 completed\n",
      "Iteration  137 completed\n",
      "Iteration  138 completed\n",
      "Iteration  139 completed\n",
      "Iteration  140 completed\n",
      "Iteration  141 completed\n",
      "Iteration  142 completed\n",
      "Iteration  143 completed\n",
      "Iteration  144 completed\n",
      "Iteration  145 completed\n",
      "Iteration  146 completed\n",
      "Iteration  147 completed\n",
      "Iteration  148 completed\n",
      "Iteration  149 completed\n",
      "Iteration  150 completed\n",
      "Iteration  151 completed\n",
      "Iteration  152 completed\n",
      "Iteration  153 completed\n",
      "Iteration  154 completed\n",
      "Iteration  155 completed\n",
      "Iteration  156 completed\n",
      "Iteration  157 completed\n",
      "Iteration  158 completed\n",
      "Iteration  159 completed\n",
      "Iteration  160 completed\n",
      "Iteration  161 completed\n",
      "Iteration  162 completed\n",
      "Iteration  163 completed\n",
      "Iteration  164 completed\n",
      "Iteration  165 completed\n",
      "Iteration  166 completed\n",
      "Iteration  167 completed\n",
      "Iteration  168 completed\n",
      "Iteration  169 completed\n",
      "Iteration  170 completed\n",
      "Iteration  171 completed\n",
      "Iteration  172 completed\n",
      "Iteration  173 completed\n",
      "Iteration  174 completed\n",
      "Iteration  175 completed\n",
      "Iteration  176 completed\n",
      "Iteration  177 completed\n",
      "Iteration  178 completed\n",
      "Iteration  179 completed\n",
      "Iteration  180 completed\n",
      "Iteration  181 completed\n",
      "Iteration  182 completed\n",
      "Iteration  183 completed\n",
      "Iteration  184 completed\n",
      "Iteration  185 completed\n",
      "Iteration  186 completed\n",
      "Iteration  187 completed\n",
      "Iteration  188 completed\n",
      "Iteration  189 completed\n",
      "Iteration  190 completed\n",
      "Iteration  191 completed\n",
      "Iteration  192 completed\n",
      "Iteration  193 completed\n",
      "Iteration  194 completed\n",
      "Iteration  195 completed\n",
      "Iteration  196 completed\n",
      "Iteration  197 completed\n",
      "Iteration  198 completed\n",
      "Iteration  199 completed\n",
      "Iteration  200 completed\n",
      "Iteration  201 completed\n",
      "Iteration  202 completed\n",
      "Iteration  203 completed\n",
      "Iteration  204 completed\n",
      "Iteration  205 completed\n",
      "Iteration  206 completed\n",
      "Iteration  207 completed\n",
      "Iteration  208 completed\n",
      "Iteration  209 completed\n",
      "Iteration  210 completed\n",
      "Iteration  211 completed\n",
      "Iteration  212 completed\n",
      "Iteration  213 completed\n",
      "Iteration  214 completed\n",
      "Iteration  215 completed\n",
      "Iteration  216 completed\n",
      "Iteration  217 completed\n",
      "Iteration  218 completed\n",
      "Iteration  219 completed\n",
      "Iteration  220 completed\n",
      "Iteration  221 completed\n",
      "Iteration  222 completed\n",
      "Iteration  223 completed\n",
      "Iteration  224 completed\n",
      "Iteration  225 completed\n",
      "Iteration  226 completed\n",
      "Iteration  227 completed\n",
      "Iteration  228 completed\n",
      "Iteration  229 completed\n",
      "Iteration  230 completed\n",
      "Iteration  231 completed\n",
      "Iteration  232 completed\n",
      "Iteration  233 completed\n",
      "Iteration  234 completed\n",
      "Iteration  235 completed\n",
      "Iteration  236 completed\n",
      "Iteration  237 completed\n",
      "Iteration  238 completed\n",
      "Iteration  239 completed\n",
      "Iteration  240 completed\n",
      "Iteration  241 completed\n",
      "Iteration  242 completed\n",
      "Iteration  243 completed\n",
      "Iteration  244 completed\n",
      "Iteration  245 completed\n",
      "Iteration  246 completed\n",
      "Iteration  247 completed\n",
      "Iteration  248 completed\n",
      "Iteration  249 completed\n",
      "Iteration  250 completed\n",
      "Iteration  251 completed\n",
      "Iteration  252 completed\n",
      "Iteration  253 completed\n",
      "Iteration  254 completed\n",
      "Iteration  255 completed\n",
      "Iteration  256 completed\n",
      "Iteration  257 completed\n",
      "Iteration  258 completed\n",
      "Iteration  259 completed\n",
      "Iteration  260 completed\n",
      "Iteration  261 completed\n",
      "Iteration  262 completed\n",
      "Iteration  263 completed\n",
      "Iteration  264 completed\n",
      "Iteration  265 completed\n",
      "Iteration  266 completed\n",
      "Iteration  267 completed\n",
      "Iteration  268 completed\n",
      "Iteration  269 completed\n",
      "Iteration  270 completed\n",
      "Iteration  271 completed\n",
      "Iteration  272 completed\n",
      "Iteration  273 completed\n",
      "Iteration  274 completed\n",
      "Iteration  275 completed\n",
      "Iteration  276 completed\n",
      "Iteration  277 completed\n",
      "Iteration  278 completed\n",
      "Iteration  279 completed\n",
      "Iteration  280 completed\n",
      "Iteration  281 completed\n",
      "Iteration  282 completed\n",
      "Iteration  283 completed\n",
      "Iteration  284 completed\n",
      "Iteration  285 completed\n",
      "Iteration  286 completed\n",
      "Iteration  287 completed\n",
      "Iteration  288 completed\n",
      "Iteration  289 completed\n",
      "Iteration  290 completed\n",
      "Iteration  291 completed\n",
      "Iteration  292 completed\n",
      "Iteration  293 completed\n",
      "Iteration  294 completed\n",
      "Iteration  295 completed\n",
      "Iteration  296 completed\n",
      "Iteration  297 completed\n",
      "Iteration  298 completed\n",
      "Iteration  299 completed\n",
      "Iteration  300 completed\n",
      "Iteration  301 completed\n",
      "Iteration  302 completed\n",
      "Iteration  303 completed\n",
      "Iteration  304 completed\n",
      "Iteration  305 completed\n",
      "Iteration  306 completed\n",
      "Iteration  307 completed\n",
      "Iteration  308 completed\n",
      "Iteration  309 completed\n",
      "Iteration  310 completed\n",
      "Iteration  311 completed\n",
      "Iteration  312 completed\n",
      "Iteration  313 completed\n",
      "Iteration  314 completed\n",
      "Iteration  315 completed\n",
      "Iteration  316 completed\n",
      "Iteration  317 completed\n",
      "Iteration  318 completed\n",
      "Iteration  319 completed\n",
      "Iteration  320 completed\n",
      "Iteration  321 completed\n",
      "Iteration  322 completed\n",
      "Iteration  323 completed\n",
      "Iteration  324 completed\n",
      "Iteration  325 completed\n",
      "Iteration  326 completed\n",
      "Iteration  327 completed\n",
      "Iteration  328 completed\n",
      "Iteration  329 completed\n",
      "Iteration  330 completed\n",
      "Iteration  331 completed\n"
     ]
    },
    {
     "name": "stdout",
     "output_type": "stream",
     "text": [
      "Iteration  332 completed\n",
      "Iteration  333 completed\n",
      "Iteration  334 completed\n",
      "Iteration  335 completed\n",
      "Iteration  336 completed\n",
      "Iteration  337 completed\n",
      "Iteration  338 completed\n",
      "Iteration  339 completed\n",
      "Iteration  340 completed\n",
      "Iteration  341 completed\n",
      "Iteration  342 completed\n",
      "Iteration  343 completed\n",
      "Iteration  344 completed\n",
      "Iteration  345 completed\n",
      "Iteration  346 completed\n",
      "Iteration  347 completed\n",
      "Iteration  348 completed\n",
      "Iteration  349 completed\n",
      "Iteration  350 completed\n",
      "Iteration  351 completed\n",
      "Iteration  352 completed\n",
      "Iteration  353 completed\n",
      "Iteration  354 completed\n",
      "Iteration  355 completed\n",
      "Iteration  356 completed\n",
      "Iteration  357 completed\n",
      "Iteration  358 completed\n",
      "Iteration  359 completed\n",
      "Iteration  360 completed\n",
      "Iteration  361 completed\n",
      "Iteration  362 completed\n",
      "Iteration  363 completed\n",
      "Iteration  364 completed\n",
      "Iteration  365 completed\n",
      "Iteration  366 completed\n",
      "Iteration  367 completed\n",
      "Iteration  368 completed\n",
      "Iteration  369 completed\n",
      "Iteration  370 completed\n",
      "Iteration  371 completed\n",
      "Iteration  372 completed\n",
      "Iteration  373 completed\n",
      "Iteration  374 completed\n",
      "Iteration  375 completed\n",
      "Iteration  376 completed\n",
      "Iteration  377 completed\n",
      "Iteration  378 completed\n",
      "Iteration  379 completed\n",
      "Iteration  380 completed\n",
      "Iteration  381 completed\n",
      "Iteration  382 completed\n",
      "Iteration  383 completed\n",
      "Iteration  384 completed\n",
      "Iteration  385 completed\n",
      "Iteration  386 completed\n",
      "Iteration  387 completed\n",
      "Iteration  388 completed\n",
      "Iteration  389 completed\n",
      "Iteration  390 completed\n",
      "Iteration  391 completed\n",
      "Iteration  392 completed\n",
      "Iteration  393 completed\n",
      "Iteration  394 completed\n",
      "Iteration  395 completed\n",
      "Iteration  396 completed\n",
      "Iteration  397 completed\n",
      "Iteration  398 completed\n",
      "Iteration  399 completed\n",
      "Iteration  400 completed\n",
      "Iteration  401 completed\n",
      "Iteration  402 completed\n",
      "Iteration  403 completed\n",
      "Iteration  404 completed\n",
      "Iteration  405 completed\n",
      "Iteration  406 completed\n",
      "Iteration  407 completed\n",
      "Iteration  408 completed\n",
      "Iteration  409 completed\n",
      "Iteration  410 completed\n",
      "Iteration  411 completed\n",
      "Iteration  412 completed\n",
      "Iteration  413 completed\n",
      "Iteration  414 completed\n",
      "Iteration  415 completed\n",
      "Iteration  416 completed\n",
      "Iteration  417 completed\n",
      "Iteration  418 completed\n",
      "Iteration  419 completed\n",
      "Iteration  420 completed\n",
      "Iteration  421 completed\n",
      "Iteration  422 completed\n",
      "Iteration  423 completed\n",
      "Iteration  424 completed\n",
      "Iteration  425 completed\n",
      "Iteration  426 completed\n",
      "Iteration  427 completed\n",
      "Iteration  428 completed\n",
      "Iteration  429 completed\n",
      "Iteration  430 completed\n",
      "Iteration  431 completed\n",
      "Iteration  432 completed\n",
      "Iteration  433 completed\n",
      "Iteration  434 completed\n",
      "Iteration  435 completed\n",
      "Iteration  436 completed\n",
      "Iteration  437 completed\n",
      "Iteration  438 completed\n",
      "Iteration  439 completed\n",
      "Iteration  440 completed\n",
      "Iteration  441 completed\n",
      "Iteration  442 completed\n",
      "Iteration  443 completed\n",
      "Iteration  444 completed\n",
      "Iteration  445 completed\n",
      "Iteration  446 completed\n",
      "Iteration  447 completed\n",
      "Iteration  448 completed\n",
      "Iteration  449 completed\n",
      "Iteration  450 completed\n",
      "CPU times: user 1h 46min 50s, sys: 34min 41s, total: 2h 21min 31s\n",
      "Wall time: 2h 52min 35s\n"
     ]
    }
   ],
   "source": [
    "%%time\n",
    "mutual_NN_neighbour(len(nodeSet)-500, 100)"
   ]
  },
  {
   "cell_type": "code",
   "execution_count": 176,
   "metadata": {},
   "outputs": [],
   "source": [
    "Dict = {}\n",
    "for x in DictofClusters:\n",
    "    if len(DictofClusters[x])>1:\n",
    "        Dict[x] = DictofClusters[x]\n",
    "w = csv.writer(open(\"Mutual_Nearest_Neighbor.csv\", \"w\"))\n",
    "for key, val in Dict.items():\n",
    "    w.writerow([key, val])"
   ]
  }
 ],
 "metadata": {
  "colab": {
   "name": "Circular Trading.ipynb",
   "provenance": []
  },
  "kernelspec": {
   "display_name": "Python 3",
   "language": "python",
   "name": "python3"
  },
  "language_info": {
   "codemirror_mode": {
    "name": "ipython",
    "version": 3
   },
   "file_extension": ".py",
   "mimetype": "text/x-python",
   "name": "python",
   "nbconvert_exporter": "python",
   "pygments_lexer": "ipython3",
   "version": "3.7.1"
  }
 },
 "nbformat": 4,
 "nbformat_minor": 1
}
