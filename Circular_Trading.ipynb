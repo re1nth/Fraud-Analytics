{
 "cells": [
  {
   "cell_type": "markdown",
   "metadata": {
    "colab_type": "text",
    "id": "XQfyafR2p4Pc"
   },
   "source": [
    "### Analysis of the DataSet"
   ]
  },
  {
   "cell_type": "code",
   "execution_count": 17,
   "metadata": {
    "colab": {},
    "colab_type": "code",
    "id": "afMJwSagp4Pm"
   },
   "outputs": [],
   "source": [
    "import pandas as pd\n",
    "import numpy as np\n",
    "import networkx as nx\n",
    "import csv"
   ]
  },
  {
   "cell_type": "markdown",
   "metadata": {
    "colab_type": "text",
    "id": "sge7l6xnp4P5"
   },
   "source": [
    "### Preprocessing"
   ]
  },
  {
   "cell_type": "code",
   "execution_count": 18,
   "metadata": {
    "colab": {},
    "colab_type": "code",
    "id": "VYmxVNaKp4P9",
    "scrolled": true
   },
   "outputs": [],
   "source": [
    "def getSize(fileName):\n",
    "    dataFrame = pd.read_csv(fileName,delimiter=',')\n",
    "    traderList = list(dataFrame['Seller'])\n",
    "    traderList.extend(list(dataFrame['Buyer']))\n",
    "    traderSet = set(traderList)\n",
    "    traderSize = len(traderSet)\n",
    "    return traderSize"
   ]
  },
  {
   "cell_type": "markdown",
   "metadata": {
    "colab_type": "text",
    "id": "unSmwPn1p4QL"
   },
   "source": [
    "### Undirected Graph generation"
   ]
  },
  {
   "cell_type": "code",
   "execution_count": 19,
   "metadata": {
    "colab": {},
    "colab_type": "code",
    "id": "IkZiDuInp4QO"
   },
   "outputs": [],
   "source": [
    "# total transaction amount between them is the weight\n",
    "def getUndirectedGraph(fileName):\n",
    "#     K represents k nearest neighbors\n",
    "    dataFrame = pd.read_csv(fileName, delimiter =',')\n",
    "    nodeSize = getSize(fileName)\n",
    "    myGraph = nx.Graph()\n",
    "#     Added nodes to the Graph\n",
    "    myGraph.add_nodes_from(list(range(1, nodeSize+1)))\n",
    "#    Adding edges with weights to the Graph\n",
    "    buyer = []\n",
    "    seller = []\n",
    "    trader = []\n",
    "    for ind in dataFrame.index:\n",
    "        u = dataFrame['Seller'][ind]\n",
    "        v = dataFrame['Buyer'][ind]\n",
    "        seller.append(u)\n",
    "        buyer.append(v)\n",
    "    \n",
    "    vSeller = np.zeros(nodeSize+1)\n",
    "    vBuyer = np.zeros(nodeSize+1)\n",
    "\n",
    "    for x in seller:\n",
    "        vSeller[x] =1 \n",
    "    for x in buyer:\n",
    "        vBuyer[x] = 1 \n",
    "\n",
    "    for ind in dataFrame.index:\n",
    "        u = dataFrame['Seller'][ind]\n",
    "        v = dataFrame['Buyer'][ind]\n",
    "        w = dataFrame['Amt'][ind]\n",
    "        if (vSeller[u]==1) and (vBuyer[u]==1) and (vSeller[v]==1) and (vBuyer[v]==1) and(u!=v):\n",
    "            trader.append(u)\n",
    "            trader.append(v)\n",
    "            if u in list(myGraph.adj[v]):\n",
    "                myGraph[u][v]['weight']+=w\n",
    "            else :\n",
    "                myGraph.add_edge(u, v, weight = w)\n",
    "    return (myGraph,list(set(trader)))\n",
    "\n",
    "(undirectedGraph,nodeSet) = getUndirectedGraph('dataset.csv')"
   ]
  },
  {
   "cell_type": "markdown",
   "metadata": {},
   "source": [
    "### Generating a undirected graph CSV "
   ]
  },
  {
   "cell_type": "code",
   "execution_count": 43,
   "metadata": {},
   "outputs": [],
   "source": [
    "nodeSize = getSize('dataset.csv')\n",
    "undirectedDict = {}\n",
    "for node in range(1, nodeSize+1):\n",
    "    neighbors = undirectedGraph[node].items()\n",
    "    neighborList = [x[0] for x in neighbors]\n",
    "    undirectedDict[node] = neighborList\n",
    "w = csv.writer(open(\"Undirected_Graph.csv\", \"w\"))\n",
    "for key, val in undirectedDict.items():\n",
    "    w.writerow([key, val])"
   ]
  },
  {
   "cell_type": "markdown",
   "metadata": {
    "colab_type": "text",
    "id": "9gg63tdNp4Qc"
   },
   "source": [
    "### Directed Graph generation"
   ]
  },
  {
   "cell_type": "code",
   "execution_count": 20,
   "metadata": {
    "colab": {},
    "colab_type": "code",
    "id": "BFgWejo0p4Qg"
   },
   "outputs": [],
   "source": [
    "def getDirectedGraph(fileName):\n",
    "    dataFrame = pd.read_csv(fileName, delimiter =',')\n",
    "    nodeSize = getSize(fileName)\n",
    "    myGraph = nx.DiGraph()\n",
    "#     Added nodes to the Graph\n",
    "    myGraph.add_nodes_from(list(range(1, nodeSize+1)))\n",
    "#    Adding edges with weights to the Graph \n",
    "    for ind in dataFrame.index:\n",
    "        u = dataFrame['Seller'][ind]\n",
    "        v = dataFrame['Buyer'][ind]\n",
    "        w = dataFrame['Amt'][ind]\n",
    "        if u in list(myGraph.adj[v]):\n",
    "            myGraph[v][u]['weight']+=w\n",
    "        else :\n",
    "            myGraph.add_edge(v, u, weight = w)\n",
    "    return myGraph\n",
    "\n",
    "DirectedGraph = getDirectedGraph('dataset.csv')"
   ]
  },
  {
   "cell_type": "markdown",
   "metadata": {
    "colab_type": "text",
    "id": "Eod2_nw7p4Qr"
   },
   "source": [
    "### Shared nearest neighbour Clustering Algorithm"
   ]
  },
  {
   "cell_type": "markdown",
   "metadata": {
    "colab_type": "text",
    "id": "uwTaVRc4p4Qv"
   },
   "source": [
    "### K-Nearest Neighbour"
   ]
  },
  {
   "cell_type": "code",
   "execution_count": 50,
   "metadata": {
    "colab": {
     "base_uri": "https://localhost:8080/",
     "height": 54
    },
    "colab_type": "code",
    "id": "kqnl8-KKp4Qx",
    "outputId": "74bb0eba-a8da-48fb-da5b-9498a7b24560"
   },
   "outputs": [
    {
     "name": "stdout",
     "output_type": "stream",
     "text": [
      "CPU times: user 318 ms, sys: 15.4 ms, total: 333 ms\n",
      "Wall time: 335 ms\n"
     ]
    }
   ],
   "source": [
    "%%time\n",
    "def kNear(graph, nodeSet, K):\n",
    "    Dict = {}\n",
    "    for node in nodeSet:\n",
    "        neighbors = np.array(sorted(graph[node].items(), key=lambda e: e[1][\"weight\"], reverse=True))\n",
    "        if(neighbors.shape[0]<K):\n",
    "            neighborList = [x[0] for x in neighbors]\n",
    "        else : \n",
    "            neighbors = neighbors[:K]\n",
    "            neighborList = [x[0] for x in neighbors]\n",
    "        Dict[node]=neighborList\n",
    "    return Dict\n",
    "\n",
    "knnGraph = kNear(undirectedGraph, nodeSet, 6)"
   ]
  },
  {
   "cell_type": "markdown",
   "metadata": {
    "colab_type": "text",
    "id": "ycCPLjESp4RA"
   },
   "source": [
    "### Union find algorithm"
   ]
  },
  {
   "cell_type": "code",
   "execution_count": 22,
   "metadata": {
    "colab": {},
    "colab_type": "code",
    "id": "POXZakY9p4RC"
   },
   "outputs": [],
   "source": [
    "nodeSize = getSize('dataset.csv')\n",
    "clusterId = np.array(list(range(nodeSize+1)))\n",
    "clusterSize = np.ones(nodeSize, dtype = int)\n",
    "def parent(u):\n",
    "    while clusterId[u]!=u:\n",
    "        u = clusterId[u]\n",
    "    return u\n",
    "def common(u, v):\n",
    "    neighborU = knnGraph[u]\n",
    "    neighborV = knnGraph[v]\n",
    "    return len(list(set(neighborU)&set(neighborV)))\n",
    "def union(u, v):\n",
    "    x = parent(u)\n",
    "    y = parent(v)\n",
    "    global clusterId\n",
    "    global clusterSize\n",
    "    if clusterSize[x]>clusterSize[y]:\n",
    "        clusterId[y] = x\n",
    "        clusterSize[x]+=clusterSize[y]\n",
    "    else :\n",
    "        clusterId[x] = y \n",
    "        clusterSize[y]+=clusterSize[x]"
   ]
  },
  {
   "cell_type": "markdown",
   "metadata": {
    "colab_type": "text",
    "id": "w_LYEd44p4RP"
   },
   "source": [
    "### Shared Nearest Neighbor Algorithm"
   ]
  },
  {
   "cell_type": "code",
   "execution_count": 23,
   "metadata": {
    "colab": {
     "base_uri": "https://localhost:8080/",
     "height": 54
    },
    "colab_type": "code",
    "id": "14QLZuqep4RS",
    "outputId": "95f0c5ac-31be-4912-fff2-bfcf9ec031d0"
   },
   "outputs": [
    {
     "name": "stdout",
     "output_type": "stream",
     "text": [
      "CPU times: user 1min 1s, sys: 60.2 ms, total: 1min 2s\n",
      "Wall time: 1min 2s\n"
     ]
    }
   ],
   "source": [
    "%%time\n",
    "kt = 2\n",
    "for u in nodeSet:\n",
    "    for v in nodeSet:\n",
    "        x = parent(u)\n",
    "        y = parent(v)\n",
    "        if x!= y :\n",
    "            if (u in knnGraph[v]) and (v in knnGraph[u]):\n",
    "                if common(u,v)>=kt:\n",
    "                    union(u,v)"
   ]
  },
  {
   "cell_type": "markdown",
   "metadata": {
    "colab_type": "text",
    "id": "epFLPJtqp4Rc"
   },
   "source": [
    "### Final dictionary of Shared nearest neighbor"
   ]
  },
  {
   "cell_type": "code",
   "execution_count": 24,
   "metadata": {
    "colab": {},
    "colab_type": "code",
    "id": "E_KitADJp4Rg",
    "scrolled": true
   },
   "outputs": [
    {
     "name": "stdout",
     "output_type": "stream",
     "text": [
      "32209\n"
     ]
    }
   ],
   "source": [
    "SNNClust = {}\n",
    "vis = np.zeros(nodeSize+1, dtype = int)\n",
    "for node in range(1, nodeSize+1):\n",
    "    currId = parent(node)\n",
    "    if vis[currId]==0:\n",
    "        SNNClust[currId]=[node]\n",
    "    else:\n",
    "        SNNClust[currId].append(node)\n",
    "    vis[currId] = 1\n",
    "print(len(SNNClust))"
   ]
  },
  {
   "cell_type": "code",
   "execution_count": 28,
   "metadata": {
    "colab": {
     "base_uri": "https://localhost:8080/",
     "height": 35
    },
    "colab_type": "code",
    "id": "3EOxHp5Bp4R7",
    "outputId": "0e8d6c31-ed35-40e1-ad83-a3b9f011e8f6"
   },
   "outputs": [],
   "source": [
    "SNNDict = {}\n",
    "for x in SNNClust:\n",
    "    if len(SNNClust[x])>2:\n",
    "        SNNDict[x]=SNNClust[x]"
   ]
  },
  {
   "cell_type": "code",
   "execution_count": 29,
   "metadata": {
    "colab": {},
    "colab_type": "code",
    "id": "u7TnwZ9q_sVu"
   },
   "outputs": [],
   "source": [
    "w = csv.writer(open(\"Shared_Nearest_Neighbor.csv\", \"w\"))\n",
    "for key, val in SNNDict.items():\n",
    "    w.writerow([key, val])"
   ]
  },
  {
   "cell_type": "markdown",
   "metadata": {},
   "source": [
    "### Visualisation of one cluster"
   ]
  },
  {
   "cell_type": "code",
   "execution_count": null,
   "metadata": {},
   "outputs": [],
   "source": []
  },
  {
   "cell_type": "markdown",
   "metadata": {},
   "source": [
    "### Creation of another graph"
   ]
  },
  {
   "cell_type": "code",
   "execution_count": 80,
   "metadata": {},
   "outputs": [],
   "source": [
    "# get node list \n",
    "# add all the edges corresponding to it\n",
    "# now whatever you are getting is the real list of nodes\n",
    "# create a new graph\n",
    "def virtualGraph(fileName, Dict):\n",
    "    dataFrame = pd.read_csv(fileName, delimiter =',')\n",
    "    nodeSize = getSize(fileName)\n",
    "    vis = np.zeros(nodeSize+1, dtype= int)\n",
    "    mark= np.zeros(nodeSize+1, dtype = int)\n",
    "#     creation of virtual Graph\n",
    "    vGraph = nx.DiGraph()\n",
    "    vGraph.add_nodes_from(list(range(1, nodeSize+1)))\n",
    "    nodeList = []\n",
    "# adding nodes of the SNNDict\n",
    "    for clusterId in Dict:\n",
    "        for node in Dict[clusterId]:\n",
    "            vis[node] = 1\n",
    "            mark[node] = 1\n",
    "#  adding nodes which have either of them visited\n",
    "    cnt = 0 \n",
    "    for ind in dataFrame.index:\n",
    "        u = dataFrame['Seller'][ind]\n",
    "        v = dataFrame['Buyer'][ind]\n",
    "        w = dataFrame['Amt'][ind]\n",
    "        if ((vis[u]==1) or (vis[v]==1)) and (cnt<800):\n",
    "            if (mark[u]==0) or (mark[v]==0): \n",
    "                cnt+=1\n",
    "            mark[u] = 1\n",
    "            mark[v] = 1\n",
    "            if u in list(vGraph.adj[v]):\n",
    "                vGraph[v][u]['weight']+=w\n",
    "            else :\n",
    "                vGraph.add_edge(v, u, weight = w)\n",
    "    for i in range(1, nodeSize+1):\n",
    "        if mark[i]==0:\n",
    "            vGraph.remove_node(i)\n",
    "        else :\n",
    "            nodeList.append(i)\n",
    "    return (nodeList, vGraph)"
   ]
  },
  {
   "cell_type": "code",
   "execution_count": 81,
   "metadata": {},
   "outputs": [
    {
     "name": "stdout",
     "output_type": "stream",
     "text": [
      "970\n"
     ]
    }
   ],
   "source": [
    "(vNodeList, vGraph) = virtualGraph('dataset.csv', SNNDict)\n",
    "print(len(vNodeList))"
   ]
  },
  {
   "cell_type": "code",
   "execution_count": 124,
   "metadata": {},
   "outputs": [],
   "source": [
    "vdirectedDict = {}\n",
    "for node in vNodeList:\n",
    "    neighbors = vGraph[node].items()\n",
    "    neighborList = [x[0] for x in neighbors]\n",
    "    vdirectedDict[node] = neighborList\n",
    "w = csv.writer(open(\"vdirected_Graph.csv\", \"w\"))\n",
    "for key, val in vdirectedDict.items():\n",
    "    w.writerow([key, val])"
   ]
  },
  {
   "cell_type": "markdown",
   "metadata": {
    "colab": {},
    "colab_type": "code",
    "id": "mQXHWogJp4Tb"
   },
   "source": [
    "### Mutual Nearest Neighbour"
   ]
  },
  {
   "cell_type": "code",
   "execution_count": 116,
   "metadata": {},
   "outputs": [],
   "source": [
    "knnGraph = kNear(vGraph, vNodeList, 6)\n",
    "DictofClusters = {}\n",
    "for i in vNodeList:\n",
    "    DictofClusters[i] = [i]"
   ]
  },
  {
   "cell_type": "code",
   "execution_count": 117,
   "metadata": {},
   "outputs": [],
   "source": [
    "def mnvForNodes(u, v):\n",
    "    listU = knnGraph[u]\n",
    "    listV = knnGraph[v]\n",
    "    rankOfVinU = 100\n",
    "    rankOfUinV = 100\n",
    "    \n",
    "    for i in range(len(listU)):\n",
    "        if listU[i]==v:\n",
    "            rankOfVinU = i+1\n",
    "            break\n",
    "            \n",
    "    for i in range(len(listV)):\n",
    "        if listV[i]==u:\n",
    "            rankOfUinV = i+1\n",
    "            break\n",
    "\n",
    "    return rankOfUinV+rankOfVinU"
   ]
  },
  {
   "cell_type": "code",
   "execution_count": 118,
   "metadata": {},
   "outputs": [],
   "source": [
    "def mnvForClusters(c1, c2):\n",
    "    cluster1 = DictofClusters[c1]\n",
    "    cluster2 = DictofClusters[c2]\n",
    "    s = 0\n",
    "    for u in cluster1:\n",
    "        for v in cluster2:\n",
    "            val = mnvForNodes(u, v)\n",
    "            s = s + val\n",
    "    length = len(cluster1) * len(cluster2)\n",
    "    return s/length"
   ]
  },
  {
   "cell_type": "code",
   "execution_count": 119,
   "metadata": {},
   "outputs": [
    {
     "name": "stdout",
     "output_type": "stream",
     "text": [
      "CPU times: user 3.02 s, sys: 32 ms, total: 3.05 s\n",
      "Wall time: 3.09 s\n"
     ]
    }
   ],
   "source": [
    "%%time\n",
    "mnvSet = set([])\n",
    "# for all pairs of clusters, find the mnv and insert into the set\n",
    "for c1 in vNodeList:\n",
    "    for c2 in vNodeList:\n",
    "        if c1!=c2:\n",
    "            currVal = mnvForClusters(c1, c2)\n",
    "            mnvSet.add((currVal, c1, c2))"
   ]
  },
  {
   "cell_type": "code",
   "execution_count": 120,
   "metadata": {},
   "outputs": [
    {
     "name": "stdout",
     "output_type": "stream",
     "text": [
      "CPU times: user 10 µs, sys: 1e+03 ns, total: 11 µs\n",
      "Wall time: 15 µs\n"
     ]
    }
   ],
   "source": [
    "%%time\n",
    "def mutual_NN_neighbour(numofClusters, maxMNV):\n",
    "    global DictofClusters\n",
    "    global mnvSet\n",
    "    totalClusters = len(DictofClusters)\n",
    "#     keep iterating while you didn't get required number of clusters\n",
    "    cnt = 0 \n",
    "    while totalClusters>numofClusters:\n",
    "        minCluster = min(mnvSet)\n",
    "#     Breaking condition for MNV\n",
    "        if minCluster[0]>maxMNV:\n",
    "            break\n",
    "        minU = minCluster[1]\n",
    "        minV = minCluster[2]\n",
    "        minNodes = [minU, minV]\n",
    "#         remove all pairs which are either of minU,minV\n",
    "        for c1 in DictofClusters:\n",
    "            for node in minNodes:\n",
    "                val = mnvForClusters(c1, node)\n",
    "                pair1 = (val, c1, node)\n",
    "                pair2 = (val, node, c1)\n",
    "                if pair1 in mnvSet:\n",
    "                    mnvSet.remove(pair1)\n",
    "                if pair2 in mnvSet:\n",
    "                    mnvSet.remove(pair2)\n",
    "#       remove two clusters and combine them into one\n",
    "        for v in DictofClusters[minV]:\n",
    "            DictofClusters[minU].append(v)\n",
    "        del DictofClusters[minV]\n",
    "#         insert all the mnvs of the new clusters with the clusters existing\n",
    "        for c1 in DictofClusters:\n",
    "            if minU!=c1:\n",
    "                currVal = mnvForClusters(c1, minU)\n",
    "                mnvSet.add((currVal, c1, minU))\n",
    "        print(\"Iteration \", cnt+1, \"completed \", totalClusters, \",\",numofClusters)\n",
    "        cnt+=1\n",
    "        totalClusters -=1\n",
    "#         remove all the elements computing with c1, c2\n",
    "# do the manipulations in the dictionary\n",
    "# calculate the clustered one with every other cluster\n",
    "# and push it into the set"
   ]
  },
  {
   "cell_type": "code",
   "execution_count": 121,
   "metadata": {
    "scrolled": true
   },
   "outputs": [
    {
     "name": "stdout",
     "output_type": "stream",
     "text": [
      "970\n",
      "Iteration  1 completed  970 , 470\n",
      "Iteration  2 completed  969 , 470\n",
      "Iteration  3 completed  968 , 470\n",
      "Iteration  4 completed  967 , 470\n",
      "Iteration  5 completed  966 , 470\n",
      "Iteration  6 completed  965 , 470\n",
      "Iteration  7 completed  964 , 470\n",
      "Iteration  8 completed  963 , 470\n",
      "Iteration  9 completed  962 , 470\n",
      "Iteration  10 completed  961 , 470\n",
      "Iteration  11 completed  960 , 470\n",
      "Iteration  12 completed  959 , 470\n",
      "Iteration  13 completed  958 , 470\n",
      "Iteration  14 completed  957 , 470\n",
      "Iteration  15 completed  956 , 470\n",
      "Iteration  16 completed  955 , 470\n",
      "Iteration  17 completed  954 , 470\n",
      "Iteration  18 completed  953 , 470\n",
      "Iteration  19 completed  952 , 470\n",
      "Iteration  20 completed  951 , 470\n",
      "Iteration  21 completed  950 , 470\n",
      "Iteration  22 completed  949 , 470\n",
      "Iteration  23 completed  948 , 470\n",
      "Iteration  24 completed  947 , 470\n",
      "Iteration  25 completed  946 , 470\n",
      "Iteration  26 completed  945 , 470\n",
      "Iteration  27 completed  944 , 470\n",
      "Iteration  28 completed  943 , 470\n",
      "Iteration  29 completed  942 , 470\n",
      "Iteration  30 completed  941 , 470\n",
      "Iteration  31 completed  940 , 470\n",
      "Iteration  32 completed  939 , 470\n",
      "Iteration  33 completed  938 , 470\n",
      "Iteration  34 completed  937 , 470\n",
      "Iteration  35 completed  936 , 470\n",
      "Iteration  36 completed  935 , 470\n",
      "Iteration  37 completed  934 , 470\n",
      "Iteration  38 completed  933 , 470\n",
      "Iteration  39 completed  932 , 470\n",
      "Iteration  40 completed  931 , 470\n",
      "Iteration  41 completed  930 , 470\n",
      "Iteration  42 completed  929 , 470\n",
      "Iteration  43 completed  928 , 470\n",
      "Iteration  44 completed  927 , 470\n",
      "Iteration  45 completed  926 , 470\n",
      "Iteration  46 completed  925 , 470\n",
      "Iteration  47 completed  924 , 470\n",
      "Iteration  48 completed  923 , 470\n",
      "Iteration  49 completed  922 , 470\n",
      "Iteration  50 completed  921 , 470\n",
      "Iteration  51 completed  920 , 470\n",
      "Iteration  52 completed  919 , 470\n",
      "Iteration  53 completed  918 , 470\n",
      "Iteration  54 completed  917 , 470\n",
      "Iteration  55 completed  916 , 470\n",
      "Iteration  56 completed  915 , 470\n",
      "Iteration  57 completed  914 , 470\n",
      "Iteration  58 completed  913 , 470\n",
      "Iteration  59 completed  912 , 470\n",
      "Iteration  60 completed  911 , 470\n",
      "Iteration  61 completed  910 , 470\n",
      "Iteration  62 completed  909 , 470\n",
      "Iteration  63 completed  908 , 470\n",
      "Iteration  64 completed  907 , 470\n",
      "Iteration  65 completed  906 , 470\n",
      "Iteration  66 completed  905 , 470\n",
      "Iteration  67 completed  904 , 470\n",
      "Iteration  68 completed  903 , 470\n",
      "CPU times: user 16.8 s, sys: 249 ms, total: 17 s\n",
      "Wall time: 17.6 s\n"
     ]
    }
   ],
   "source": [
    "%%time\n",
    "print(len(vNodeList))\n",
    "mutual_NN_neighbour(len(vNodeList)-500, 160)"
   ]
  },
  {
   "cell_type": "code",
   "execution_count": 123,
   "metadata": {},
   "outputs": [
    {
     "name": "stdout",
     "output_type": "stream",
     "text": [
      "21\n"
     ]
    }
   ],
   "source": [
    "Dict = {}\n",
    "for x in DictofClusters:\n",
    "    if len(DictofClusters[x])>2:\n",
    "        Dict[x] = DictofClusters[x]\n",
    "print(len(Dict))\n",
    "w = csv.writer(open(\"Mutual_Nearest_Neighbor.csv\", \"w\"))\n",
    "for key, val in Dict.items():\n",
    "    w.writerow([key, val])"
   ]
  },
  {
   "cell_type": "markdown",
   "metadata": {},
   "source": [
    "### Drawing Graph with NetworkX"
   ]
  },
  {
   "cell_type": "code",
   "execution_count": 16,
   "metadata": {},
   "outputs": [
    {
     "data": {
      "image/png": "[encoded data removed]",
      "text/plain": [
       "<Figure size 432x288 with 1 Axes>"
      ]
     },
     "metadata": {},
     "output_type": "display_data"
    }
   ],
   "source": [
    "import matplotlib.pyplot as plt\n",
    "import networkx as nx\n",
    "G = nx.DiGraph()\n",
    "G.add_edge(1,2, weight = 3.4)\n",
    "G.add_edge(2,3, weight = 1.2)\n",
    "plt.subplot(121)\n",
    "nx.draw(G, with_labels=True, font_weight='bold')\n",
    "plt.savefig(\"SNN/path.png\")"
   ]
  }
 ],
 "metadata": {
  "colab": {
   "name": "Circular Trading.ipynb",
   "provenance": []
  },
  "kernelspec": {
   "display_name": "Python 3",
   "language": "python",
   "name": "python3"
  },
  "language_info": {
   "codemirror_mode": {
    "name": "ipython",
    "version": 3
   },
   "file_extension": ".py",
   "mimetype": "text/x-python",
   "name": "python",
   "nbconvert_exporter": "python",
   "pygments_lexer": "ipython3",
   "version": "3.7.1"
  }
 },
 "nbformat": 4,
 "nbformat_minor": 1
}
