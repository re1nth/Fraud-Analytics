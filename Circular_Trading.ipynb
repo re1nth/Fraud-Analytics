{
 "cells": [
  {
   "cell_type": "markdown",
   "metadata": {
    "colab_type": "text",
    "id": "XQfyafR2p4Pc"
   },
   "source": [
    "### Analysis of the DataSet"
   ]
  },
  {
   "cell_type": "code",
   "execution_count": 1,
   "metadata": {
    "colab": {},
    "colab_type": "code",
    "id": "afMJwSagp4Pm"
   },
   "outputs": [],
   "source": [
    "import pandas as pd\n",
    "import numpy as np\n",
    "import networkx as nx\n",
    "import csv"
   ]
  },
  {
   "cell_type": "markdown",
   "metadata": {
    "colab_type": "text",
    "id": "sge7l6xnp4P5"
   },
   "source": [
    "### Preprocessing"
   ]
  },
  {
   "cell_type": "code",
   "execution_count": 2,
   "metadata": {
    "colab": {},
    "colab_type": "code",
    "id": "VYmxVNaKp4P9",
    "scrolled": true
   },
   "outputs": [],
   "source": [
    "def getSize(fileName):\n",
    "    dataFrame = pd.read_csv(fileName,delimiter=',')\n",
    "    traderList = list(dataFrame['Seller'])\n",
    "    traderList.extend(list(dataFrame['Buyer']))\n",
    "    traderSet = set(traderList)\n",
    "    traderSize = len(traderSet)\n",
    "    return traderSize"
   ]
  },
  {
   "cell_type": "markdown",
   "metadata": {
    "colab_type": "text",
    "id": "unSmwPn1p4QL"
   },
   "source": [
    "### Undirected Graph generation"
   ]
  },
  {
   "cell_type": "code",
   "execution_count": 49,
   "metadata": {
    "colab": {},
    "colab_type": "code",
    "id": "IkZiDuInp4QO"
   },
   "outputs": [],
   "source": [
    "# total transaction amount between them is the weight\n",
    "def getUndirectedGraph(fileName):\n",
    "#     K represents k nearest neighbors\n",
    "    dataFrame = pd.read_csv(fileName, delimiter =',')\n",
    "    nodeSize = getSize(fileName)\n",
    "    myGraph = nx.Graph()\n",
    "#     Added nodes to the Graph\n",
    "    myGraph.add_nodes_from(list(range(1, nodeSize+1)))\n",
    "#    Adding edges with weights to the Graph\n",
    "    buyer = []\n",
    "    seller = []\n",
    "    trader = []\n",
    "    for ind in dataFrame.index:\n",
    "        u = dataFrame['Seller'][ind]\n",
    "        v = dataFrame['Buyer'][ind]\n",
    "        seller.append(u)\n",
    "        buyer.append(v)\n",
    "        \n",
    "    vSeller = np.zeros(nodeSize+1)\n",
    "    vBuyer = np.zeros(nodeSize+1)\n",
    "\n",
    "    for x in seller:\n",
    "        vSeller[x] =1 \n",
    "    for x in buyer:\n",
    "        vBuyer[x] = 1 \n",
    "\n",
    "    for ind in dataFrame.index:\n",
    "        u = dataFrame['Seller'][ind]\n",
    "        v = dataFrame['Buyer'][ind]\n",
    "        w = dataFrame['Amt'][ind]\n",
    "        if (vSeller[u]==1) and (vBuyer[u]==1) and (vSeller[v]==1) and (vBuyer[v]==1) and(u!=v):\n",
    "            trader.append(u)\n",
    "            trader.append(v)\n",
    "            if u in list(myGraph.adj[v]):\n",
    "                myGraph[u][v]['weight']+=w\n",
    "            else :\n",
    "                myGraph.add_edge(u, v, weight = w)\n",
    "    return (myGraph,list(set(trader)))\n",
    "\n",
    "(undirectedGraph,nodeSet) = getUndirectedGraph('dataset.csv')"
   ]
  },
  {
   "cell_type": "markdown",
   "metadata": {},
   "source": [
    "### Generating a undirected graph CSV "
   ]
  },
  {
   "cell_type": "code",
   "execution_count": 48,
   "metadata": {},
   "outputs": [],
   "source": [
    "nodeSize = getSize('dataset.csv')\n",
    "undirectedDict = {}\n",
    "for node in range(1, nodeSize+1):\n",
    "    neighbors = undirectedGraph[node].items()\n",
    "    neighborList = [x[0] for x in neighbors]\n",
    "    undirectedDict[node] = neighborList\n",
    "w = csv.writer(open(\"Undirected_Graph.csv\", \"w\"))\n",
    "for key, val in undirectedDict.items():\n",
    "    w.writerow([key, val])"
   ]
  },
  {
   "cell_type": "markdown",
   "metadata": {
    "colab_type": "text",
    "id": "9gg63tdNp4Qc"
   },
   "source": [
    "### Directed Graph generation"
   ]
  },
  {
   "cell_type": "code",
   "execution_count": 5,
   "metadata": {
    "colab": {},
    "colab_type": "code",
    "id": "BFgWejo0p4Qg"
   },
   "outputs": [],
   "source": [
    "def getDirectedGraph(fileName):\n",
    "    dataFrame = pd.read_csv(fileName, delimiter =',')\n",
    "    nodeSize = getSize(fileName)\n",
    "    myGraph = nx.DiGraph()\n",
    "#     Added nodes to the Graph\n",
    "    myGraph.add_nodes_from(list(range(1, nodeSize+1)))\n",
    "#    Adding edges with weights to the Graph \n",
    "    for ind in dataFrame.index:\n",
    "        u = dataFrame['Seller'][ind]\n",
    "        v = dataFrame['Buyer'][ind]\n",
    "        w = dataFrame['Amt'][ind]\n",
    "        if u in list(myGraph.adj[v]):\n",
    "            myGraph[v][u]['weight']+=w\n",
    "        else :\n",
    "            myGraph.add_edge(v, u, weight = w)\n",
    "    return myGraph\n",
    "\n",
    "DirectedGraph = getDirectedGraph('dataset.csv')"
   ]
  },
  {
   "cell_type": "markdown",
   "metadata": {
    "colab_type": "text",
    "id": "Eod2_nw7p4Qr"
   },
   "source": [
    "### Shared nearest neighbour Clustering Algorithm"
   ]
  },
  {
   "cell_type": "markdown",
   "metadata": {
    "colab_type": "text",
    "id": "uwTaVRc4p4Qv"
   },
   "source": [
    "### K-Nearest Neighbour"
   ]
  },
  {
   "cell_type": "code",
   "execution_count": 6,
   "metadata": {
    "colab": {
     "base_uri": "https://localhost:8080/",
     "height": 54
    },
    "colab_type": "code",
    "id": "kqnl8-KKp4Qx",
    "outputId": "74bb0eba-a8da-48fb-da5b-9498a7b24560"
   },
   "outputs": [
    {
     "name": "stdout",
     "output_type": "stream",
     "text": [
      "CPU times: user 252 ms, sys: 6.19 ms, total: 259 ms\n",
      "Wall time: 273 ms\n"
     ]
    }
   ],
   "source": [
    "%%time\n",
    "def kNear(graph, nodeSet, K):\n",
    "    Dict = {}\n",
    "    for node in nodeSet:\n",
    "        neighbors = np.array(sorted(graph[node].items(), key=lambda e: e[1][\"weight\"], reverse=True))\n",
    "        if(neighbors.shape[0]<K):\n",
    "            neighborList = [x[0] for x in neighbors]\n",
    "        else : \n",
    "            neighbors = neighbors[:K]\n",
    "            neighborList = [x[0] for x in neighbors]\n",
    "        Dict[node]=neighborList\n",
    "    return Dict\n",
    "\n",
    "knnGraph = kNear(undirectedGraph, nodeSet, 6)"
   ]
  },
  {
   "cell_type": "markdown",
   "metadata": {
    "colab_type": "text",
    "id": "ycCPLjESp4RA"
   },
   "source": [
    "### Union find algorithm"
   ]
  },
  {
   "cell_type": "code",
   "execution_count": 7,
   "metadata": {
    "colab": {},
    "colab_type": "code",
    "id": "POXZakY9p4RC"
   },
   "outputs": [],
   "source": [
    "nodeSize = getSize('dataset.csv')\n",
    "clusterId = np.array(list(range(nodeSize+1)))\n",
    "clusterSize = np.ones(nodeSize, dtype = int)\n",
    "def parent(u):\n",
    "    while clusterId[u]!=u:\n",
    "        u = clusterId[u]\n",
    "    return u\n",
    "def common(u, v):\n",
    "    neighborU = knnGraph[u]\n",
    "    neighborV = knnGraph[v]\n",
    "    return len(list(set(neighborU)&set(neighborV)))\n",
    "def union(u, v):\n",
    "    x = parent(u)\n",
    "    y = parent(v)\n",
    "    global clusterId\n",
    "    global clusterSize\n",
    "    if clusterSize[x]>clusterSize[y]:\n",
    "        clusterId[y] = x\n",
    "        clusterSize[x]+=clusterSize[y]\n",
    "    else :\n",
    "        clusterId[x] = y \n",
    "        clusterSize[y]+=clusterSize[x]"
   ]
  },
  {
   "cell_type": "markdown",
   "metadata": {
    "colab_type": "text",
    "id": "w_LYEd44p4RP"
   },
   "source": [
    "### Shared Nearest Neighbor Algorithm"
   ]
  },
  {
   "cell_type": "code",
   "execution_count": 8,
   "metadata": {
    "colab": {
     "base_uri": "https://localhost:8080/",
     "height": 54
    },
    "colab_type": "code",
    "id": "14QLZuqep4RS",
    "outputId": "95f0c5ac-31be-4912-fff2-bfcf9ec031d0"
   },
   "outputs": [
    {
     "name": "stdout",
     "output_type": "stream",
     "text": [
      "CPU times: user 1min 6s, sys: 139 ms, total: 1min 6s\n",
      "Wall time: 1min 6s\n"
     ]
    }
   ],
   "source": [
    "%%time\n",
    "kt = 2\n",
    "for u in nodeSet:\n",
    "    for v in nodeSet:\n",
    "        x = parent(u)\n",
    "        y = parent(v)\n",
    "        if x!= y :\n",
    "            if (u in knnGraph[v]) and (v in knnGraph[u]):\n",
    "                if common(u,v)>=kt:\n",
    "                    union(u,v)"
   ]
  },
  {
   "cell_type": "markdown",
   "metadata": {
    "colab_type": "text",
    "id": "epFLPJtqp4Rc"
   },
   "source": [
    "### Final dictionary of Shared nearest neighbor"
   ]
  },
  {
   "cell_type": "code",
   "execution_count": 9,
   "metadata": {
    "colab": {},
    "colab_type": "code",
    "id": "E_KitADJp4Rg",
    "scrolled": true
   },
   "outputs": [],
   "source": [
    "SNNClust = {}\n",
    "vis = np.zeros(nodeSize+1, dtype = int)\n",
    "for node in range(1, nodeSize+1):\n",
    "    currId = parent(node)\n",
    "    if vis[currId]==0:\n",
    "        SNNClust[currId]=[node]\n",
    "    else:\n",
    "        SNNClust[currId].append(node)\n",
    "    vis[currId] = 1"
   ]
  },
  {
   "cell_type": "code",
   "execution_count": 10,
   "metadata": {
    "colab": {
     "base_uri": "https://localhost:8080/",
     "height": 35
    },
    "colab_type": "code",
    "id": "3EOxHp5Bp4R7",
    "outputId": "0e8d6c31-ed35-40e1-ad83-a3b9f011e8f6"
   },
   "outputs": [],
   "source": [
    "SNNDict = {}\n",
    "for x in SNNClust:\n",
    "    if len(SNNClust[x])>2:\n",
    "        SNNDict[x]=SNNClust[x]"
   ]
  },
  {
   "cell_type": "code",
   "execution_count": 11,
   "metadata": {
    "colab": {},
    "colab_type": "code",
    "id": "u7TnwZ9q_sVu"
   },
   "outputs": [],
   "source": [
    "w = csv.writer(open(\"Shared_Nearest_Neighbor.csv\", \"w\"))\n",
    "for key, val in SNNDict.items():\n",
    "    w.writerow([key, val])"
   ]
  },
  {
   "cell_type": "markdown",
   "metadata": {},
   "source": [
    "### Visualisation of  SNN clusters"
   ]
  },
  {
   "cell_type": "code",
   "execution_count": 51,
   "metadata": {},
   "outputs": [
    {
     "data": {
      "text/plain": [
       "<Figure size 432x288 with 0 Axes>"
      ]
     },
     "metadata": {},
     "output_type": "display_data"
    }
   ],
   "source": [
    "path ='SNNResult/Cluster'\n",
    "cnt = 1\n",
    "for clusterId in SNNDict:\n",
    "    tempGraph = nx.Graph()\n",
    "    for u in SNNDict[clusterId]:\n",
    "        for v in SNNDict[clusterId]:\n",
    "            if u!=v and undirectedGraph.has_edge(u,v):\n",
    "                tempGraph.add_edge(u,v)\n",
    "    nx.draw(tempGraph, with_labels=True, node_size=1500, node_color = 'y',font_weight='bold')\n",
    "    plt.savefig(path+str(cnt))\n",
    "    plt.clf() \n",
    "    cnt+=1"
   ]
  },
  {
   "cell_type": "markdown",
   "metadata": {},
   "source": [
    "### Creation of another graph"
   ]
  },
  {
   "cell_type": "code",
   "execution_count": 17,
   "metadata": {},
   "outputs": [],
   "source": [
    "# get node list \n",
    "# add all the edges corresponding to it\n",
    "# now whatever you are getting is the real list of nodes\n",
    "# create a new graph\n",
    "def virtualGraph(fileName, Dict):\n",
    "    dataFrame = pd.read_csv(fileName, delimiter =',')\n",
    "    nodeSize = getSize(fileName)\n",
    "    vis = np.zeros(nodeSize+1, dtype= int)\n",
    "    mark= np.zeros(nodeSize+1, dtype = int)\n",
    "#     creation of virtual Graph\n",
    "    vGraph = nx.DiGraph()\n",
    "    vGraph.add_nodes_from(list(range(1, nodeSize+1)))\n",
    "    nodeList = []\n",
    "# adding nodes of the SNNDict\n",
    "    for clusterId in Dict:\n",
    "        for node in Dict[clusterId]:\n",
    "            vis[node] = 1\n",
    "            mark[node] = 1\n",
    "#  adding nodes which have either of them visited\n",
    "    cnt = 0 \n",
    "    for ind in dataFrame.index:\n",
    "        u = dataFrame['Seller'][ind]\n",
    "        v = dataFrame['Buyer'][ind]\n",
    "        w = dataFrame['Amt'][ind]\n",
    "        if ((vis[u]==1) or (vis[v]==1)):\n",
    "            if (mark[u]==0) or (mark[v]==0): \n",
    "                cnt+=1\n",
    "            mark[u] = 1\n",
    "            mark[v] = 1\n",
    "            if u in list(vGraph.adj[v]):\n",
    "                vGraph[v][u]['weight']+=w\n",
    "            else :\n",
    "                vGraph.add_edge(v, u, weight = w)\n",
    "    for i in range(1, nodeSize+1):\n",
    "        if mark[i]==0:\n",
    "            vGraph.remove_node(i)\n",
    "        else :\n",
    "            nodeList.append(i)\n",
    "    return (nodeList, vGraph)"
   ]
  },
  {
   "cell_type": "code",
   "execution_count": 18,
   "metadata": {},
   "outputs": [],
   "source": [
    "(vNodeList, vGraph) = virtualGraph('dataset.csv', SNNDict)"
   ]
  },
  {
   "cell_type": "code",
   "execution_count": 19,
   "metadata": {},
   "outputs": [],
   "source": [
    "vdirectedDict = {}\n",
    "for node in vNodeList:\n",
    "    neighbors = vGraph[node].items()\n",
    "    neighborList = [x[0] for x in neighbors]\n",
    "    vdirectedDict[node] = neighborList\n",
    "w = csv.writer(open(\"vdirected_Graph.csv\", \"w\"))\n",
    "for key, val in vdirectedDict.items():\n",
    "    w.writerow([key, val])"
   ]
  },
  {
   "cell_type": "markdown",
   "metadata": {
    "colab": {},
    "colab_type": "code",
    "id": "mQXHWogJp4Tb"
   },
   "source": [
    "### Mutual Nearest Neighbour"
   ]
  },
  {
   "cell_type": "code",
   "execution_count": 20,
   "metadata": {},
   "outputs": [],
   "source": [
    "knnGraph = kNear(vGraph, vNodeList, 6)\n",
    "DictofClusters = {}\n",
    "for i in vNodeList:\n",
    "    DictofClusters[i] = [i]"
   ]
  },
  {
   "cell_type": "code",
   "execution_count": 21,
   "metadata": {},
   "outputs": [],
   "source": [
    "def mnvForNodes(u, v):\n",
    "    listU = knnGraph[u]\n",
    "    listV = knnGraph[v]\n",
    "    rankOfVinU = 100\n",
    "    rankOfUinV = 100\n",
    "    \n",
    "    for i in range(len(listU)):\n",
    "        if listU[i]==v:\n",
    "            rankOfVinU = i+1\n",
    "            break\n",
    "            \n",
    "    for i in range(len(listV)):\n",
    "        if listV[i]==u:\n",
    "            rankOfUinV = i+1\n",
    "            break\n",
    "\n",
    "    return rankOfUinV+rankOfVinU"
   ]
  },
  {
   "cell_type": "code",
   "execution_count": 22,
   "metadata": {},
   "outputs": [],
   "source": [
    "def mnvForClusters(c1, c2):\n",
    "    cluster1 = DictofClusters[c1]\n",
    "    cluster2 = DictofClusters[c2]\n",
    "    s = 0\n",
    "    for u in cluster1:\n",
    "        for v in cluster2:\n",
    "            val = mnvForNodes(u, v)\n",
    "            s = s + val\n",
    "    length = len(cluster1) * len(cluster2)\n",
    "    return s/length"
   ]
  },
  {
   "cell_type": "code",
   "execution_count": 23,
   "metadata": {},
   "outputs": [
    {
     "name": "stdout",
     "output_type": "stream",
     "text": [
      "CPU times: user 34.7 s, sys: 830 ms, total: 35.5 s\n",
      "Wall time: 36.2 s\n"
     ]
    }
   ],
   "source": [
    "%%time\n",
    "mnvSet = set([])\n",
    "# for all pairs of clusters, find the mnv and insert into the set\n",
    "for c1 in vNodeList:\n",
    "    for c2 in vNodeList:\n",
    "        if c1!=c2:\n",
    "            currVal = mnvForClusters(c1, c2)\n",
    "            mnvSet.add((currVal, c1, c2))"
   ]
  },
  {
   "cell_type": "code",
   "execution_count": 24,
   "metadata": {},
   "outputs": [
    {
     "name": "stdout",
     "output_type": "stream",
     "text": [
      "CPU times: user 7 µs, sys: 1 µs, total: 8 µs\n",
      "Wall time: 14.1 µs\n"
     ]
    }
   ],
   "source": [
    "%%time\n",
    "def mutual_NN_neighbour(numofClusters, maxMNV):\n",
    "    global DictofClusters\n",
    "    global mnvSet\n",
    "    totalClusters = len(DictofClusters)\n",
    "#     keep iterating while you didn't get required number of clusters\n",
    "    cnt = 0 \n",
    "    while totalClusters>numofClusters:\n",
    "        minCluster = min(mnvSet)\n",
    "#     Breaking condition for MNV\n",
    "        if minCluster[0]>maxMNV:\n",
    "            break\n",
    "        minU = minCluster[1]\n",
    "        minV = minCluster[2]\n",
    "        minNodes = [minU, minV]\n",
    "#         remove all pairs which are either of minU,minV\n",
    "        for c1 in DictofClusters:\n",
    "            for node in minNodes:\n",
    "                val = mnvForClusters(c1, node)\n",
    "                pair1 = (val, c1, node)\n",
    "                pair2 = (val, node, c1)\n",
    "                if pair1 in mnvSet:\n",
    "                    mnvSet.remove(pair1)\n",
    "                if pair2 in mnvSet:\n",
    "                    mnvSet.remove(pair2)\n",
    "#       remove two clusters and combine them into one\n",
    "        for v in DictofClusters[minV]:\n",
    "            DictofClusters[minU].append(v)\n",
    "        del DictofClusters[minV]\n",
    "#         insert all the mnvs of the new clusters with the clusters existing\n",
    "        for c1 in DictofClusters:\n",
    "            if minU!=c1:\n",
    "                currVal = mnvForClusters(c1, minU)\n",
    "                mnvSet.add((currVal, c1, minU))\n",
    "        print(\"Iteration \", cnt+1, \"completed \", totalClusters, \",\",numofClusters)\n",
    "        cnt+=1\n",
    "        totalClusters -=1\n",
    "#         remove all the elements computing with c1, c2\n",
    "# do the manipulations in the dictionary\n",
    "# calculate the clustered one with every other cluster\n",
    "# and push it into the set"
   ]
  },
  {
   "cell_type": "code",
   "execution_count": 25,
   "metadata": {
    "scrolled": true
   },
   "outputs": [
    {
     "name": "stdout",
     "output_type": "stream",
     "text": [
      "3166\n",
      "Iteration  1 completed  3166 , 2666\n",
      "Iteration  2 completed  3165 , 2666\n",
      "Iteration  3 completed  3164 , 2666\n",
      "Iteration  4 completed  3163 , 2666\n",
      "Iteration  5 completed  3162 , 2666\n",
      "Iteration  6 completed  3161 , 2666\n",
      "Iteration  7 completed  3160 , 2666\n",
      "Iteration  8 completed  3159 , 2666\n",
      "Iteration  9 completed  3158 , 2666\n",
      "Iteration  10 completed  3157 , 2666\n",
      "Iteration  11 completed  3156 , 2666\n",
      "Iteration  12 completed  3155 , 2666\n",
      "Iteration  13 completed  3154 , 2666\n",
      "Iteration  14 completed  3153 , 2666\n",
      "Iteration  15 completed  3152 , 2666\n",
      "Iteration  16 completed  3151 , 2666\n",
      "Iteration  17 completed  3150 , 2666\n",
      "Iteration  18 completed  3149 , 2666\n",
      "Iteration  19 completed  3148 , 2666\n",
      "Iteration  20 completed  3147 , 2666\n",
      "Iteration  21 completed  3146 , 2666\n",
      "Iteration  22 completed  3145 , 2666\n",
      "Iteration  23 completed  3144 , 2666\n",
      "Iteration  24 completed  3143 , 2666\n",
      "Iteration  25 completed  3142 , 2666\n",
      "Iteration  26 completed  3141 , 2666\n",
      "Iteration  27 completed  3140 , 2666\n",
      "Iteration  28 completed  3139 , 2666\n",
      "Iteration  29 completed  3138 , 2666\n",
      "Iteration  30 completed  3137 , 2666\n",
      "Iteration  31 completed  3136 , 2666\n",
      "Iteration  32 completed  3135 , 2666\n",
      "Iteration  33 completed  3134 , 2666\n",
      "Iteration  34 completed  3133 , 2666\n",
      "Iteration  35 completed  3132 , 2666\n",
      "Iteration  36 completed  3131 , 2666\n",
      "Iteration  37 completed  3130 , 2666\n",
      "Iteration  38 completed  3129 , 2666\n",
      "Iteration  39 completed  3128 , 2666\n",
      "Iteration  40 completed  3127 , 2666\n",
      "Iteration  41 completed  3126 , 2666\n",
      "Iteration  42 completed  3125 , 2666\n",
      "Iteration  43 completed  3124 , 2666\n",
      "Iteration  44 completed  3123 , 2666\n",
      "Iteration  45 completed  3122 , 2666\n",
      "Iteration  46 completed  3121 , 2666\n",
      "Iteration  47 completed  3120 , 2666\n",
      "Iteration  48 completed  3119 , 2666\n",
      "Iteration  49 completed  3118 , 2666\n",
      "Iteration  50 completed  3117 , 2666\n",
      "Iteration  51 completed  3116 , 2666\n",
      "Iteration  52 completed  3115 , 2666\n",
      "Iteration  53 completed  3114 , 2666\n",
      "Iteration  54 completed  3113 , 2666\n",
      "Iteration  55 completed  3112 , 2666\n",
      "Iteration  56 completed  3111 , 2666\n",
      "Iteration  57 completed  3110 , 2666\n",
      "Iteration  58 completed  3109 , 2666\n",
      "Iteration  59 completed  3108 , 2666\n",
      "Iteration  60 completed  3107 , 2666\n",
      "Iteration  61 completed  3106 , 2666\n",
      "Iteration  62 completed  3105 , 2666\n",
      "Iteration  63 completed  3104 , 2666\n",
      "Iteration  64 completed  3103 , 2666\n",
      "Iteration  65 completed  3102 , 2666\n",
      "Iteration  66 completed  3101 , 2666\n",
      "Iteration  67 completed  3100 , 2666\n",
      "Iteration  68 completed  3099 , 2666\n",
      "Iteration  69 completed  3098 , 2666\n",
      "Iteration  70 completed  3097 , 2666\n",
      "Iteration  71 completed  3096 , 2666\n",
      "Iteration  72 completed  3095 , 2666\n",
      "Iteration  73 completed  3094 , 2666\n",
      "Iteration  74 completed  3093 , 2666\n",
      "Iteration  75 completed  3092 , 2666\n",
      "Iteration  76 completed  3091 , 2666\n",
      "Iteration  77 completed  3090 , 2666\n",
      "Iteration  78 completed  3089 , 2666\n",
      "Iteration  79 completed  3088 , 2666\n",
      "Iteration  80 completed  3087 , 2666\n",
      "Iteration  81 completed  3086 , 2666\n",
      "Iteration  82 completed  3085 , 2666\n",
      "Iteration  83 completed  3084 , 2666\n",
      "Iteration  84 completed  3083 , 2666\n",
      "Iteration  85 completed  3082 , 2666\n",
      "Iteration  86 completed  3081 , 2666\n",
      "Iteration  87 completed  3080 , 2666\n",
      "Iteration  88 completed  3079 , 2666\n",
      "Iteration  89 completed  3078 , 2666\n",
      "Iteration  90 completed  3077 , 2666\n",
      "Iteration  91 completed  3076 , 2666\n",
      "Iteration  92 completed  3075 , 2666\n",
      "Iteration  93 completed  3074 , 2666\n",
      "Iteration  94 completed  3073 , 2666\n",
      "Iteration  95 completed  3072 , 2666\n",
      "Iteration  96 completed  3071 , 2666\n",
      "Iteration  97 completed  3070 , 2666\n",
      "Iteration  98 completed  3069 , 2666\n",
      "Iteration  99 completed  3068 , 2666\n",
      "Iteration  100 completed  3067 , 2666\n",
      "Iteration  101 completed  3066 , 2666\n",
      "Iteration  102 completed  3065 , 2666\n",
      "Iteration  103 completed  3064 , 2666\n",
      "Iteration  104 completed  3063 , 2666\n",
      "Iteration  105 completed  3062 , 2666\n",
      "Iteration  106 completed  3061 , 2666\n",
      "Iteration  107 completed  3060 , 2666\n",
      "Iteration  108 completed  3059 , 2666\n",
      "Iteration  109 completed  3058 , 2666\n",
      "Iteration  110 completed  3057 , 2666\n",
      "Iteration  111 completed  3056 , 2666\n",
      "Iteration  112 completed  3055 , 2666\n",
      "Iteration  113 completed  3054 , 2666\n",
      "Iteration  114 completed  3053 , 2666\n",
      "Iteration  115 completed  3052 , 2666\n",
      "Iteration  116 completed  3051 , 2666\n",
      "Iteration  117 completed  3050 , 2666\n",
      "Iteration  118 completed  3049 , 2666\n",
      "Iteration  119 completed  3048 , 2666\n",
      "Iteration  120 completed  3047 , 2666\n",
      "Iteration  121 completed  3046 , 2666\n",
      "Iteration  122 completed  3045 , 2666\n",
      "Iteration  123 completed  3044 , 2666\n",
      "Iteration  124 completed  3043 , 2666\n",
      "Iteration  125 completed  3042 , 2666\n",
      "Iteration  126 completed  3041 , 2666\n",
      "Iteration  127 completed  3040 , 2666\n",
      "Iteration  128 completed  3039 , 2666\n",
      "Iteration  129 completed  3038 , 2666\n",
      "Iteration  130 completed  3037 , 2666\n",
      "Iteration  131 completed  3036 , 2666\n",
      "Iteration  132 completed  3035 , 2666\n",
      "Iteration  133 completed  3034 , 2666\n",
      "Iteration  134 completed  3033 , 2666\n",
      "Iteration  135 completed  3032 , 2666\n",
      "Iteration  136 completed  3031 , 2666\n",
      "Iteration  137 completed  3030 , 2666\n",
      "Iteration  138 completed  3029 , 2666\n",
      "Iteration  139 completed  3028 , 2666\n",
      "Iteration  140 completed  3027 , 2666\n",
      "Iteration  141 completed  3026 , 2666\n",
      "Iteration  142 completed  3025 , 2666\n",
      "Iteration  143 completed  3024 , 2666\n",
      "Iteration  144 completed  3023 , 2666\n",
      "Iteration  145 completed  3022 , 2666\n",
      "Iteration  146 completed  3021 , 2666\n",
      "Iteration  147 completed  3020 , 2666\n",
      "Iteration  148 completed  3019 , 2666\n",
      "Iteration  149 completed  3018 , 2666\n",
      "Iteration  150 completed  3017 , 2666\n",
      "Iteration  151 completed  3016 , 2666\n",
      "Iteration  152 completed  3015 , 2666\n",
      "Iteration  153 completed  3014 , 2666\n",
      "Iteration  154 completed  3013 , 2666\n",
      "Iteration  155 completed  3012 , 2666\n",
      "Iteration  156 completed  3011 , 2666\n",
      "Iteration  157 completed  3010 , 2666\n",
      "Iteration  158 completed  3009 , 2666\n",
      "Iteration  159 completed  3008 , 2666\n",
      "Iteration  160 completed  3007 , 2666\n",
      "Iteration  161 completed  3006 , 2666\n",
      "Iteration  162 completed  3005 , 2666\n",
      "Iteration  163 completed  3004 , 2666\n",
      "Iteration  164 completed  3003 , 2666\n",
      "Iteration  165 completed  3002 , 2666\n",
      "Iteration  166 completed  3001 , 2666\n",
      "Iteration  167 completed  3000 , 2666\n",
      "Iteration  168 completed  2999 , 2666\n",
      "Iteration  169 completed  2998 , 2666\n",
      "Iteration  170 completed  2997 , 2666\n",
      "Iteration  171 completed  2996 , 2666\n",
      "Iteration  172 completed  2995 , 2666\n",
      "Iteration  173 completed  2994 , 2666\n",
      "Iteration  174 completed  2993 , 2666\n",
      "Iteration  175 completed  2992 , 2666\n",
      "Iteration  176 completed  2991 , 2666\n",
      "Iteration  177 completed  2990 , 2666\n",
      "Iteration  178 completed  2989 , 2666\n",
      "Iteration  179 completed  2988 , 2666\n",
      "Iteration  180 completed  2987 , 2666\n",
      "Iteration  181 completed  2986 , 2666\n",
      "Iteration  182 completed  2985 , 2666\n",
      "Iteration  183 completed  2984 , 2666\n",
      "Iteration  184 completed  2983 , 2666\n",
      "Iteration  185 completed  2982 , 2666\n",
      "Iteration  186 completed  2981 , 2666\n",
      "Iteration  187 completed  2980 , 2666\n",
      "Iteration  188 completed  2979 , 2666\n",
      "Iteration  189 completed  2978 , 2666\n",
      "Iteration  190 completed  2977 , 2666\n",
      "Iteration  191 completed  2976 , 2666\n",
      "Iteration  192 completed  2975 , 2666\n",
      "CPU times: user 9min 24s, sys: 6.64 s, total: 9min 30s\n",
      "Wall time: 10min 1s\n"
     ]
    }
   ],
   "source": [
    "%%time\n",
    "print(len(vNodeList))\n",
    "mutual_NN_neighbour(len(vNodeList)-500, 150)"
   ]
  },
  {
   "cell_type": "code",
   "execution_count": 28,
   "metadata": {},
   "outputs": [],
   "source": [
    "MNNDict = {}\n",
    "for x in DictofClusters:\n",
    "    if len(DictofClusters[x])>2:\n",
    "        MNNDict[x] = DictofClusters[x]\n",
    "w = csv.writer(open(\"Mutual_Nearest_Neighbor.csv\", \"w\"))\n",
    "for key, val in MNNDict.items():\n",
    "    w.writerow([key, val])"
   ]
  },
  {
   "cell_type": "markdown",
   "metadata": {},
   "source": [
    "### Visualization of MNN Clusters "
   ]
  },
  {
   "cell_type": "code",
   "execution_count": 52,
   "metadata": {},
   "outputs": [
    {
     "data": {
      "text/plain": [
       "<Figure size 432x288 with 0 Axes>"
      ]
     },
     "metadata": {},
     "output_type": "display_data"
    }
   ],
   "source": [
    "path ='MNNResult/Cluster'\n",
    "cnt = 1\n",
    "for clusterId in MNNDict:\n",
    "    tempGraph = nx.DiGraph()\n",
    "    for u in MNNDict[clusterId]:\n",
    "        for v in MNNDict[clusterId]:\n",
    "            if u!=v and vGraph.has_edge(u,v):\n",
    "                tempGraph.add_edge(u,v)\n",
    "    nx.draw(tempGraph, with_labels=True, node_size=1500, node_color = 'y', font_weight='bold')\n",
    "    plt.savefig(path+str(cnt))\n",
    "    plt.clf() \n",
    "    cnt+=1"
   ]
  },
  {
   "cell_type": "code",
   "execution_count": 46,
   "metadata": {},
   "outputs": [
    {
     "name": "stdout",
     "output_type": "stream",
     "text": [
      "32449\n"
     ]
    }
   ],
   "source": [
    "print(getSize('dataset.csv'))"
   ]
  },
  {
   "cell_type": "code",
   "execution_count": null,
   "metadata": {},
   "outputs": [],
   "source": []
  }
 ],
 "metadata": {
  "colab": {
   "name": "Circular Trading.ipynb",
   "provenance": []
  },
  "kernelspec": {
   "display_name": "Python 3",
   "language": "python",
   "name": "python3"
  },
  "language_info": {
   "codemirror_mode": {
    "name": "ipython",
    "version": 3
   },
   "file_extension": ".py",
   "mimetype": "text/x-python",
   "name": "python",
   "nbconvert_exporter": "python",
   "pygments_lexer": "ipython3",
   "version": "3.7.1"
  }
 },
 "nbformat": 4,
 "nbformat_minor": 1
}
