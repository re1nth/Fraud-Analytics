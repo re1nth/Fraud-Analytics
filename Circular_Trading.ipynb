{
 "cells": [
  {
   "cell_type": "markdown",
   "metadata": {
    "colab_type": "text",
    "id": "XQfyafR2p4Pc"
   },
   "source": [
    "### Analysis of the DataSet"
   ]
  },
  {
   "cell_type": "code",
   "execution_count": 1,
   "metadata": {
    "colab": {},
    "colab_type": "code",
    "id": "afMJwSagp4Pm"
   },
   "outputs": [],
   "source": [
    "import pandas as pd\n",
    "import numpy as np\n",
    "import networkx as nx"
   ]
  },
  {
   "cell_type": "markdown",
   "metadata": {
    "colab_type": "text",
    "id": "sge7l6xnp4P5"
   },
   "source": [
    "### Preprocessing"
   ]
  },
  {
   "cell_type": "code",
   "execution_count": 2,
   "metadata": {
    "colab": {},
    "colab_type": "code",
    "id": "VYmxVNaKp4P9",
    "scrolled": true
   },
   "outputs": [],
   "source": [
    "def getSize(fileName):\n",
    "    dataFrame = pd.read_csv(fileName,delimiter=',')\n",
    "    traderList = list(dataFrame['Seller'])\n",
    "    traderList.extend(list(dataFrame['Buyer']))\n",
    "    traderSet = set(traderList)\n",
    "    traderSize = len(traderSet)\n",
    "    return traderSize"
   ]
  },
  {
   "cell_type": "markdown",
   "metadata": {
    "colab_type": "text",
    "id": "unSmwPn1p4QL"
   },
   "source": [
    "### Undirected Graph generation"
   ]
  },
  {
   "cell_type": "code",
   "execution_count": 5,
   "metadata": {
    "colab": {},
    "colab_type": "code",
    "id": "IkZiDuInp4QO"
   },
   "outputs": [],
   "source": [
    "# total transaction amount between them is the weight\n",
    "def getUndirectedGraph(fileName):\n",
    "#     K represents k nearest neighbors\n",
    "    dataFrame = pd.read_csv(fileName, delimiter =',')\n",
    "    nodeSize = getSize(fileName)\n",
    "    myGraph = nx.Graph()\n",
    "#     Added nodes to the Graph\n",
    "    myGraph.add_nodes_from(list(range(1, nodeSize+1)))\n",
    "#    Adding edges with weights to the Graph\n",
    "    buyer = []\n",
    "    seller = []\n",
    "    trader = []\n",
    "    for ind in dataFrame.index:\n",
    "        u = dataFrame['Seller'][ind]\n",
    "        v = dataFrame['Buyer'][ind]\n",
    "        seller.append(u)\n",
    "        buyer.append(v)\n",
    "    \n",
    "    vSeller = np.zeros(nodeSize+1)\n",
    "    vBuyer = np.zeros(nodeSize+1)\n",
    "\n",
    "    for x in seller:\n",
    "        vSeller[x] =1 \n",
    "    for x in buyer:\n",
    "        vBuyer[x] = 1 \n",
    "\n",
    "    for ind in dataFrame.index:\n",
    "        u = dataFrame['Seller'][ind]\n",
    "        v = dataFrame['Buyer'][ind]\n",
    "        w = dataFrame['Amt'][ind]\n",
    "        if (vSeller[u]==1) and (vBuyer[u]==1) and (vSeller[v]==1) and (vBuyer[v]==1) and(u!=v):\n",
    "            trader.append(u)\n",
    "            trader.append(v)\n",
    "            if u in list(myGraph.adj[v]):\n",
    "                myGraph[u][v]['weight']+=w\n",
    "            else :\n",
    "                myGraph.add_edge(u, v, weight = w)\n",
    "    return (myGraph,list(set(trader)))\n",
    "\n",
    "(undirectedGraph,nodeSet) = getUndirectedGraph('dataset.csv')"
   ]
  },
  {
   "cell_type": "markdown",
   "metadata": {
    "colab_type": "text",
    "id": "9gg63tdNp4Qc"
   },
   "source": [
    "### Directed Graph generation"
   ]
  },
  {
   "cell_type": "code",
   "execution_count": 0,
   "metadata": {
    "colab": {},
    "colab_type": "code",
    "id": "BFgWejo0p4Qg"
   },
   "outputs": [],
   "source": [
    "def getDirectedGraph(fileName):\n",
    "    dataFrame = pd.read_csv(fileName, delimiter =',')\n",
    "    nodeSize = getSize(fileName)\n",
    "    myGraph = nx.DiGraph()\n",
    "#     Added nodes to the Graph\n",
    "    myGraph.add_nodes_from(list(range(1, nodeSize+1)))\n",
    "#    Adding edges with weights to the Graph\n",
    "    cnt = 0 \n",
    "    for ind in dataFrame.index:\n",
    "        cnt = (cnt+1)\n",
    "        u = dataFrame['Seller'][ind]\n",
    "        v = dataFrame['Buyer'][ind]\n",
    "        w = dataFrame['Amt'][ind]\n",
    "        if u in list(myGraph.adj[v]):\n",
    "            myGraph[v][u]['weight']+=w\n",
    "        else :\n",
    "            myGraph.add_edge(u, v, weight = w)\n",
    "        if(cnt == 1000): break\n",
    "    return myGraph\n",
    "\n",
    "DirectedGraph = getDirectedGraph('dataset.csv')"
   ]
  },
  {
   "cell_type": "markdown",
   "metadata": {
    "colab_type": "text",
    "id": "Eod2_nw7p4Qr"
   },
   "source": [
    "### Shared nearest neighbour Clustering Algorithm"
   ]
  },
  {
   "cell_type": "markdown",
   "metadata": {
    "colab_type": "text",
    "id": "uwTaVRc4p4Qv"
   },
   "source": [
    "### K-Nearest Neighbour"
   ]
  },
  {
   "cell_type": "code",
   "execution_count": 128,
   "metadata": {
    "colab": {
     "base_uri": "https://localhost:8080/",
     "height": 54
    },
    "colab_type": "code",
    "id": "kqnl8-KKp4Qx",
    "outputId": "74bb0eba-a8da-48fb-da5b-9498a7b24560"
   },
   "outputs": [
    {
     "name": "stdout",
     "output_type": "stream",
     "text": [
      "CPU times: user 184 ms, sys: 3.01 ms, total: 187 ms\n",
      "Wall time: 182 ms\n"
     ]
    }
   ],
   "source": [
    "%%time\n",
    "def kNear(graph, K):\n",
    "    Dict = {}\n",
    "    for node in nodeSet:\n",
    "        neighbors = np.array(sorted(graph[node].items(), key=lambda e: e[1][\"weight\"], reverse=True))\n",
    "        if(neighbors.shape[0]<K):\n",
    "            neighborList = [x[0] for x in neighbors]\n",
    "        else : \n",
    "            neighbors = neighbors[:K]\n",
    "            neighborList = [x[0] for x in neighbors]\n",
    "        Dict[node]=neighborList\n",
    "    return Dict\n",
    "\n",
    "knnGraph = kNear(DirectedGraph, 10)"
   ]
  },
  {
   "cell_type": "markdown",
   "metadata": {
    "colab_type": "text",
    "id": "ycCPLjESp4RA"
   },
   "source": [
    "### Union find algorithm"
   ]
  },
  {
   "cell_type": "code",
   "execution_count": 0,
   "metadata": {
    "colab": {},
    "colab_type": "code",
    "id": "POXZakY9p4RC"
   },
   "outputs": [],
   "source": [
    "nodeSize = getSize('dataset.csv')\n",
    "clusterId = np.array(list(range(nodeSize+1)))\n",
    "clusterSize = np.ones(nodeSize, dtype = int)\n",
    "def parent(u):\n",
    "    while clusterId[u]!=u:\n",
    "        u = clusterId[u]\n",
    "    return u\n",
    "def common(u, v):\n",
    "    neighborU = knnGraph[u]\n",
    "    neighborV = knnGraph[v]\n",
    "    cnt = 0 \n",
    "    for x in neighborU:\n",
    "        if x in neighborV:\n",
    "            cnt = cnt+1\n",
    "    return cnt\n",
    "def union(u, v):\n",
    "    x = parent(u)\n",
    "    y = parent(v)\n",
    "    global clusterId\n",
    "    global clusterSize\n",
    "    if clusterSize[x]>clusterSize[y]:\n",
    "        clusterId[y] = x\n",
    "        clusterSize[x]+=clusterSize[y]\n",
    "    else :\n",
    "        clusterId[x] = y \n",
    "        clusterSize[y]+=clusterSize[x]"
   ]
  },
  {
   "cell_type": "markdown",
   "metadata": {
    "colab_type": "text",
    "id": "w_LYEd44p4RP"
   },
   "source": [
    "### Shared Nearest Neighbor Algorithm"
   ]
  },
  {
   "cell_type": "code",
   "execution_count": 130,
   "metadata": {
    "colab": {
     "base_uri": "https://localhost:8080/",
     "height": 54
    },
    "colab_type": "code",
    "id": "14QLZuqep4RS",
    "outputId": "95f0c5ac-31be-4912-fff2-bfcf9ec031d0"
   },
   "outputs": [
    {
     "name": "stdout",
     "output_type": "stream",
     "text": [
      "CPU times: user 41.9 s, sys: 7.89 ms, total: 41.9 s\n",
      "Wall time: 42 s\n"
     ]
    }
   ],
   "source": [
    "%%time\n",
    "kt = 2\n",
    "for u in nodeSet:\n",
    "    for v in nodeSet:\n",
    "        x = parent(u)\n",
    "        y = parent(v)\n",
    "        if x!= y :\n",
    "            if u in knnGraph[u] and v in knnGraph[u]:\n",
    "                if common(u,v)>=kt:\n",
    "                    union(u,v)\n",
    "# union find\n",
    "# set - > all nodes, each node as it's own cluster\n",
    "# for every (u,v) in G : \n",
    "# if v not in C(u) && if k(u) && k(v)>= kt && u->knn(V) && v->knn(u):\n",
    "# remove c(u), c(v) \n",
    "# add c(u)union c(v) to set S"
   ]
  },
  {
   "cell_type": "markdown",
   "metadata": {
    "colab_type": "text",
    "id": "epFLPJtqp4Rc"
   },
   "source": [
    "### Final dictionary of Shared nearest neighbor"
   ]
  },
  {
   "cell_type": "code",
   "execution_count": 0,
   "metadata": {
    "colab": {},
    "colab_type": "code",
    "id": "E_KitADJp4Rg",
    "scrolled": true
   },
   "outputs": [],
   "source": [
    "SNNClust = {}\n",
    "vis = np.zeros(nodeSize+1, dtype = int)\n",
    "for node in range(1, nodeSize+1):\n",
    "    currId = parent(node)\n",
    "    if vis[currId]==0:\n",
    "         SNNClust[currId]=[node]\n",
    "    else : \n",
    "        SNNClust[currId].append(node)\n",
    "    vis[currId] = 1"
   ]
  },
  {
   "cell_type": "code",
   "execution_count": 137,
   "metadata": {
    "colab": {
     "base_uri": "https://localhost:8080/",
     "height": 35
    },
    "colab_type": "code",
    "id": "3EOxHp5Bp4R7",
    "outputId": "0e8d6c31-ed35-40e1-ad83-a3b9f011e8f6"
   },
   "outputs": [
    {
     "name": "stdout",
     "output_type": "stream",
     "text": [
      "24\n"
     ]
    }
   ],
   "source": [
    "Dict = {}\n",
    "for x in SNNClust:\n",
    "  if len(SNNClust[x])>1:\n",
    "    Dict[x]=SNNClust[x]\n",
    "print(len(Dict))"
   ]
  },
  {
   "cell_type": "code",
   "execution_count": 0,
   "metadata": {
    "colab": {},
    "colab_type": "code",
    "id": "u7TnwZ9q_sVu"
   },
   "outputs": [],
   "source": [
    "import csv\n",
    "\n",
    "w = csv.writer(open(\"output.csv\", \"w\"))\n",
    "for key, val in Dict.items():\n",
    "    w.writerow([key, val])\n",
    "\n",
    "# import csv\n",
    "\n",
    "# with open('output.csv', 'wb') as myfile:\n",
    "#     wr = csv.writer(myfile, quoting=csv.QUOTE_ALL)\n",
    "#     wr.writerow(Dicto)"
   ]
  },
  {
   "cell_type": "code",
   "execution_count": 165,
   "metadata": {
    "colab": {
     "base_uri": "https://localhost:8080/",
     "height": 201
    },
    "colab_type": "code",
    "id": "4V9qkBQrE0Sc",
    "outputId": "7caeff0c-302a-47a7-b27e-eb3bb9119bae"
   },
   "outputs": [
    {
     "name": "stdout",
     "output_type": "stream",
     "text": [
      "727 9099\n",
      "727 13838\n",
      "727 14917\n",
      "9099 727\n",
      "9099 13838\n",
      "13838 727\n",
      "13838 9099\n",
      "13838 14917\n",
      "14917 727\n",
      "14917 13838\n"
     ]
    }
   ],
   "source": [
    "clusterList = [727, 9099, 13838, 14917]\n",
    "for u in clusterList:\n",
    "  for v in clusterList:\n",
    "    if u!=v:\n",
    "      if u in undirectedGraph.adj[v]:\n",
    "        print(u, v)"
   ]
  },
  {
   "cell_type": "markdown",
   "metadata": {
    "colab_type": "text",
    "id": "mByNt_rtp4SE"
   },
   "source": [
    "### Playing with NetworkX"
   ]
  },
  {
   "cell_type": "code",
   "execution_count": 0,
   "metadata": {
    "colab": {},
    "colab_type": "code",
    "id": "K2exwjYDp4SG"
   },
   "outputs": [],
   "source": [
    "import networkx as nx"
   ]
  },
  {
   "cell_type": "code",
   "execution_count": 0,
   "metadata": {
    "colab": {},
    "colab_type": "code",
    "id": "FTSJmM79p4SN"
   },
   "outputs": [],
   "source": [
    "# Creating a graph\n",
    "G = nx.Graph()"
   ]
  },
  {
   "cell_type": "code",
   "execution_count": 0,
   "metadata": {
    "colab": {},
    "colab_type": "code",
    "id": "VrF_toaBp4SW"
   },
   "outputs": [],
   "source": [
    "# Add nodes in the graph\n",
    "G.add_node(1)\n",
    "G.add_nodes_from([2,3])"
   ]
  },
  {
   "cell_type": "code",
   "execution_count": 0,
   "metadata": {
    "colab": {},
    "colab_type": "code",
    "id": "PG907iNap4Sf"
   },
   "outputs": [],
   "source": [
    "# Add edges in the graph with weight\n",
    "G.add_edge(1, 2, weight=4.7 )\n",
    "G.add_edge(1,3, weight = 2.3)"
   ]
  },
  {
   "cell_type": "code",
   "execution_count": 0,
   "metadata": {
    "colab": {},
    "colab_type": "code",
    "id": "UrIkIgYPp4Sm"
   },
   "outputs": [],
   "source": [
    "# Accessing and modifying weight of a graph\n",
    "G[1][2]['weight']+=2"
   ]
  },
  {
   "cell_type": "code",
   "execution_count": 0,
   "metadata": {
    "colab": {},
    "colab_type": "code",
    "id": "l5kl_Kkwp4Sv"
   },
   "outputs": [],
   "source": [
    "# Getting number of nodes and edges in the graph\n",
    "print(G.number_of_nodes())\n",
    "print(G.number_of_edges())"
   ]
  },
  {
   "cell_type": "code",
   "execution_count": 0,
   "metadata": {
    "colab": {},
    "colab_type": "code",
    "id": "4CwinovSp4S0"
   },
   "outputs": [],
   "source": [
    "# Node list and Edge List\n",
    "# Neighbor List\n",
    "nodeList = list(G.nodes)\n",
    "edgeList = list(G.edges)\n",
    "n1List = list(G.adj[1])\n",
    "n2List = list(G.adj[2])\n",
    "n3List = list(G.adj[4])\n",
    "print(nodeList)\n",
    "print(edgeList)\n",
    "print(n1List)\n",
    "print(n2List)\n",
    "print(n3List)"
   ]
  },
  {
   "cell_type": "code",
   "execution_count": 0,
   "metadata": {
    "colab": {},
    "colab_type": "code",
    "id": "HMAEb-40p4S8"
   },
   "outputs": [],
   "source": [
    "# Remove nodes and edges\n",
    "G.remove_edge(1,2)"
   ]
  },
  {
   "cell_type": "code",
   "execution_count": 0,
   "metadata": {
    "colab": {},
    "colab_type": "code",
    "id": "0i5xshSWp4TD",
    "outputId": "9f6b2683-51d1-4ed5-b064-7496f9591e46"
   },
   "outputs": [
    {
     "name": "stdout",
     "output_type": "stream",
     "text": [
      "[]\n",
      "(1, 2, 3.200)\n",
      "(1, 3, 4.500)\n",
      "(2, 1, 3.200)\n",
      "[(1, 2), (1, 3), (2, 1)]\n",
      "(1, 2, 3.200)\n",
      "(1, 3, 4.500)\n",
      "[(1, 2), (1, 3)]\n"
     ]
    }
   ],
   "source": [
    "# Creation of diGraph\n",
    "# edges will be doubled\n",
    "H = nx.DiGraph()\n",
    "H.add_node(4)\n",
    "H.add_edge(1,2, weight=2.3)\n",
    "H.add_edge(1,2, weight = 3.2)\n",
    "H.add_edge(2, 1, weight=3.2)\n",
    "H.add_edge(1, 3, weight = 4.5)\n",
    "print(list(H.adj[4]))\n",
    "for (u, v, wt) in H.edges.data('weight'):\n",
    "    print('(%d, %d, %.3f)' % (u, v, wt))\n",
    "print(list(H.edges))\n",
    "S = H.to_undirected()\n",
    "for (u, v, wt) in S.edges.data('weight'):\n",
    "    print('(%d, %d, %.3f)' % (u, v, wt))\n",
    "print(list(S.edges))"
   ]
  },
  {
   "cell_type": "code",
   "execution_count": 0,
   "metadata": {
    "colab": {},
    "colab_type": "code",
    "id": "gmvaJiAkp4TM",
    "outputId": "5fb97eec-79be-484c-e751-2e9e651bb543"
   },
   "outputs": [
    {
     "name": "stdout",
     "output_type": "stream",
     "text": [
      "15.2\n",
      "(3, 2)\n",
      "[[2 {'weight': 15.2}]\n",
      " [4 {'weight': 2.4}]\n",
      " [3 {'weight': 2.0}]]\n",
      "2\n",
      "4\n",
      "3\n"
     ]
    }
   ],
   "source": [
    "# creationg of normal Graph\n",
    "# edges weight will be added\n",
    "S = nx.Graph()\n",
    "S.add_edge(1,2, weight=2.3)\n",
    "S.add_edge(1,4, weight = 2.4)\n",
    "S.add_edge(2, 1, weight=3.2)\n",
    "S.add_edge(1, 3, weight = 2.0)\n",
    "S.add_edge(2,3,weight=2.8)\n",
    "S[1][2]['weight']+=2.0\n",
    "S[2][1]['weight']+=10.0\n",
    "print(S[1][2]['weight'])\n",
    "foo = np.array((sorted(S[1].items(), key=lambda e: e[1][\"weight\"], reverse=True)))[:K]\n",
    "print(foo.shape)\n",
    "print(foo)\n",
    "for (x, y) in foo:\n",
    "    print(x)"
   ]
  },
  {
   "cell_type": "code",
   "execution_count": 0,
   "metadata": {
    "colab": {},
    "colab_type": "code",
    "id": "1J6F_iJlp4TU"
   },
   "outputs": [],
   "source": [
    "# Accessing edges and neighbors\n",
    "print(G[1][3]['weight'])\n",
    "print(G[1])"
   ]
  },
  {
   "cell_type": "code",
   "execution_count": 0,
   "metadata": {
    "colab": {},
    "colab_type": "code",
    "id": "mQXHWogJp4Tb"
   },
   "outputs": [],
   "source": []
  }
 ],
 "metadata": {
  "colab": {
   "name": "Circular Trading.ipynb",
   "provenance": []
  },
  "kernelspec": {
   "display_name": "Python 3",
   "language": "python",
   "name": "python3"
  },
  "language_info": {
   "codemirror_mode": {
    "name": "ipython",
    "version": 3
   },
   "file_extension": ".py",
   "mimetype": "text/x-python",
   "name": "python",
   "nbconvert_exporter": "python",
   "pygments_lexer": "ipython3",
   "version": "3.7.1"
  }
 },
 "nbformat": 4,
 "nbformat_minor": 1
}
