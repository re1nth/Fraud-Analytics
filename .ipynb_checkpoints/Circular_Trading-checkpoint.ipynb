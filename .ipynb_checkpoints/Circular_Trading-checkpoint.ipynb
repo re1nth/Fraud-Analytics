{
 "cells": [
  {
   "cell_type": "markdown",
   "metadata": {
    "colab_type": "text",
    "id": "XQfyafR2p4Pc"
   },
   "source": [
    "### Analysis of the DataSet"
   ]
  },
  {
   "cell_type": "code",
   "execution_count": 52,
   "metadata": {
    "colab": {},
    "colab_type": "code",
    "id": "afMJwSagp4Pm"
   },
   "outputs": [],
   "source": [
    "import pandas as pd\n",
    "import numpy as np\n",
    "import networkx as nx\n",
    "import csv"
   ]
  },
  {
   "cell_type": "markdown",
   "metadata": {
    "colab_type": "text",
    "id": "sge7l6xnp4P5"
   },
   "source": [
    "### Preprocessing"
   ]
  },
  {
   "cell_type": "code",
   "execution_count": 53,
   "metadata": {
    "colab": {},
    "colab_type": "code",
    "id": "VYmxVNaKp4P9",
    "scrolled": true
   },
   "outputs": [],
   "source": [
    "def getSize(fileName):\n",
    "    dataFrame = pd.read_csv(fileName,delimiter=',')\n",
    "    traderList = list(dataFrame['Seller'])\n",
    "    traderList.extend(list(dataFrame['Buyer']))\n",
    "    traderSet = set(traderList)\n",
    "    traderSize = len(traderSet)\n",
    "    return traderSize"
   ]
  },
  {
   "cell_type": "markdown",
   "metadata": {
    "colab_type": "text",
    "id": "unSmwPn1p4QL"
   },
   "source": [
    "### Undirected Graph generation"
   ]
  },
  {
   "cell_type": "code",
   "execution_count": 54,
   "metadata": {
    "colab": {},
    "colab_type": "code",
    "id": "IkZiDuInp4QO"
   },
   "outputs": [],
   "source": [
    "# total transaction amount between them is the weight\n",
    "def getUndirectedGraph(fileName):\n",
    "#     K represents k nearest neighbors\n",
    "    dataFrame = pd.read_csv(fileName, delimiter =',')\n",
    "    nodeSize = getSize(fileName)\n",
    "    myGraph = nx.Graph()\n",
    "#     Added nodes to the Graph\n",
    "    myGraph.add_nodes_from(list(range(1, nodeSize+1)))\n",
    "#    Adding edges with weights to the Graph\n",
    "    buyer = []\n",
    "    seller = []\n",
    "    trader = []\n",
    "    for ind in dataFrame.index:\n",
    "        u = dataFrame['Seller'][ind]\n",
    "        v = dataFrame['Buyer'][ind]\n",
    "        seller.append(u)\n",
    "        buyer.append(v)\n",
    "    \n",
    "    vSeller = np.zeros(nodeSize+1)\n",
    "    vBuyer = np.zeros(nodeSize+1)\n",
    "\n",
    "    for x in seller:\n",
    "        vSeller[x] =1 \n",
    "    for x in buyer:\n",
    "        vBuyer[x] = 1 \n",
    "\n",
    "    for ind in dataFrame.index:\n",
    "        u = dataFrame['Seller'][ind]\n",
    "        v = dataFrame['Buyer'][ind]\n",
    "        w = dataFrame['Amt'][ind]\n",
    "        if (vSeller[u]==1) and (vBuyer[u]==1) and (vSeller[v]==1) and (vBuyer[v]==1) and(u!=v):\n",
    "            trader.append(u)\n",
    "            trader.append(v)\n",
    "            if u in list(myGraph.adj[v]):\n",
    "                myGraph[u][v]['weight']+=w\n",
    "            else :\n",
    "                myGraph.add_edge(u, v, weight = w)\n",
    "    return (myGraph,list(set(trader)))\n",
    "\n",
    "(undirectedGraph,nodeSet) = getUndirectedGraph('dataset.csv')"
   ]
  },
  {
   "cell_type": "markdown",
   "metadata": {
    "colab_type": "text",
    "id": "9gg63tdNp4Qc"
   },
   "source": [
    "### Directed Graph generation"
   ]
  },
  {
   "cell_type": "code",
   "execution_count": 97,
   "metadata": {
    "colab": {},
    "colab_type": "code",
    "id": "BFgWejo0p4Qg"
   },
   "outputs": [],
   "source": [
    "def getDirectedGraph(fileName):\n",
    "    dataFrame = pd.read_csv(fileName, delimiter =',')\n",
    "    nodeSize = getSize(fileName)\n",
    "    myGraph = nx.DiGraph()\n",
    "#     Added nodes to the Graph\n",
    "    myGraph.add_nodes_from(list(range(1, nodeSize+1)))\n",
    "#    Adding edges with weights to the Graph \n",
    "    for ind in dataFrame.index:\n",
    "        u = dataFrame['Seller'][ind]\n",
    "        v = dataFrame['Buyer'][ind]\n",
    "        w = dataFrame['Amt'][ind]\n",
    "        if u in list(myGraph.adj[v]):\n",
    "            myGraph[v][u]['weight']+=w\n",
    "        else :\n",
    "            myGraph.add_edge(v, u, weight = w)\n",
    "    return myGraph\n",
    "\n",
    "DirectedGraph = getDirectedGraph('dataset.csv')"
   ]
  },
  {
   "cell_type": "markdown",
   "metadata": {
    "colab_type": "text",
    "id": "Eod2_nw7p4Qr"
   },
   "source": [
    "### Shared nearest neighbour Clustering Algorithm"
   ]
  },
  {
   "cell_type": "markdown",
   "metadata": {
    "colab_type": "text",
    "id": "uwTaVRc4p4Qv"
   },
   "source": [
    "### K-Nearest Neighbour"
   ]
  },
  {
   "cell_type": "code",
   "execution_count": 56,
   "metadata": {
    "colab": {
     "base_uri": "https://localhost:8080/",
     "height": 54
    },
    "colab_type": "code",
    "id": "kqnl8-KKp4Qx",
    "outputId": "74bb0eba-a8da-48fb-da5b-9498a7b24560"
   },
   "outputs": [
    {
     "name": "stdout",
     "output_type": "stream",
     "text": [
      "CPU times: user 202 ms, sys: 5.59 ms, total: 208 ms\n",
      "Wall time: 216 ms\n"
     ]
    }
   ],
   "source": [
    "%%time\n",
    "def kNear(graph, K):\n",
    "    Dict = {}\n",
    "    for node in nodeSet:\n",
    "        neighbors = np.array(sorted(graph[node].items(), key=lambda e: e[1][\"weight\"], reverse=True))\n",
    "        if(neighbors.shape[0]<K):\n",
    "            neighborList = [x[0] for x in neighbors]\n",
    "        else : \n",
    "            neighbors = neighbors[:K]\n",
    "            neighborList = [x[0] for x in neighbors]\n",
    "        Dict[node]=neighborList\n",
    "    return Dict\n",
    "\n",
    "knnGraph = kNear(undirectedGraph, 6)"
   ]
  },
  {
   "cell_type": "markdown",
   "metadata": {
    "colab_type": "text",
    "id": "ycCPLjESp4RA"
   },
   "source": [
    "### Union find algorithm"
   ]
  },
  {
   "cell_type": "code",
   "execution_count": 136,
   "metadata": {
    "colab": {},
    "colab_type": "code",
    "id": "POXZakY9p4RC"
   },
   "outputs": [],
   "source": [
    "nodeSize = getSize('dataset.csv')\n",
    "clusterId = np.array(list(range(nodeSize+1)))\n",
    "clusterSize = np.ones(nodeSize, dtype = int)\n",
    "def parent(u):\n",
    "    while clusterId[u]!=u:\n",
    "        u = clusterId[u]\n",
    "    return u\n",
    "def common(u, v):\n",
    "    neighborU = knnGraph[u]\n",
    "    neighborV = knnGraph[v]\n",
    "    return len(list(set(neighborU)&set(neighborV)))\n",
    "def union(u, v):\n",
    "    x = parent(u)\n",
    "    y = parent(v)\n",
    "    global clusterId\n",
    "    global clusterSize\n",
    "    if clusterSize[x]>clusterSize[y]:\n",
    "        clusterId[y] = x\n",
    "        clusterSize[x]+=clusterSize[y]\n",
    "    else :\n",
    "        clusterId[x] = y \n",
    "        clusterSize[y]+=clusterSize[x]"
   ]
  },
  {
   "cell_type": "markdown",
   "metadata": {
    "colab_type": "text",
    "id": "w_LYEd44p4RP"
   },
   "source": [
    "### Shared Nearest Neighbor Algorithm"
   ]
  },
  {
   "cell_type": "code",
   "execution_count": 137,
   "metadata": {
    "colab": {
     "base_uri": "https://localhost:8080/",
     "height": 54
    },
    "colab_type": "code",
    "id": "14QLZuqep4RS",
    "outputId": "95f0c5ac-31be-4912-fff2-bfcf9ec031d0"
   },
   "outputs": [
    {
     "name": "stdout",
     "output_type": "stream",
     "text": [
      "CPU times: user 1min 4s, sys: 243 ms, total: 1min 4s\n",
      "Wall time: 1min 5s\n"
     ]
    }
   ],
   "source": [
    "%%time\n",
    "kt = 2\n",
    "for u in nodeSet:\n",
    "    for v in nodeSet:\n",
    "        x = parent(u)\n",
    "        y = parent(v)\n",
    "        if x!= y :\n",
    "            if (u in knnGraph[v]) and (v in knnGraph[u]):\n",
    "                if common(u,v)>=kt:\n",
    "                    union(u,v)\n",
    "# union find\n",
    "# set - > all nodes, each node as it's own cluster\n",
    "# for every (u,v) in G : \n",
    "# if v not in C(u) && if k(u) && k(v)>= kt && u->knn(V) && v->knn(u):\n",
    "# remove c(u), c(v) \n",
    "# add c(u)union c(v) to set S"
   ]
  },
  {
   "cell_type": "markdown",
   "metadata": {
    "colab_type": "text",
    "id": "epFLPJtqp4Rc"
   },
   "source": [
    "### Final dictionary of Shared nearest neighbor"
   ]
  },
  {
   "cell_type": "code",
   "execution_count": 138,
   "metadata": {
    "colab": {},
    "colab_type": "code",
    "id": "E_KitADJp4Rg",
    "scrolled": true
   },
   "outputs": [
    {
     "name": "stdout",
     "output_type": "stream",
     "text": [
      "32371\n"
     ]
    }
   ],
   "source": [
    "SNNClust = {}\n",
    "vis = np.zeros(nodeSize+1, dtype = int)\n",
    "for node in range(1, nodeSize+1):\n",
    "    currId = parent(node)\n",
    "    if vis[currId]==0:\n",
    "        SNNClust[currId]=[node]\n",
    "    else:\n",
    "        SNNClust[currId].append(node)\n",
    "    vis[currId] = 1\n",
    "print(len(SNNClust))"
   ]
  },
  {
   "cell_type": "code",
   "execution_count": 140,
   "metadata": {
    "colab": {
     "base_uri": "https://localhost:8080/",
     "height": 35
    },
    "colab_type": "code",
    "id": "3EOxHp5Bp4R7",
    "outputId": "0e8d6c31-ed35-40e1-ad83-a3b9f011e8f6"
   },
   "outputs": [],
   "source": [
    "Dict = {}\n",
    "for x in SNNClust:\n",
    "    if len(SNNClust[x])>2:\n",
    "        Dict[x]=SNNClust[x]"
   ]
  },
  {
   "cell_type": "code",
   "execution_count": 141,
   "metadata": {
    "colab": {},
    "colab_type": "code",
    "id": "u7TnwZ9q_sVu"
   },
   "outputs": [],
   "source": [
    "w = csv.writer(open(\"Shared_Nearest_Neighbor.csv\", \"w\"))\n",
    "for key, val in Dict.items():\n",
    "    w.writerow([key, val])"
   ]
  },
  {
   "cell_type": "markdown",
   "metadata": {
    "colab": {},
    "colab_type": "code",
    "id": "mQXHWogJp4Tb"
   },
   "source": [
    "### Mutual Nearest Neighbour"
   ]
  },
  {
   "cell_type": "code",
   "execution_count": 152,
   "metadata": {},
   "outputs": [],
   "source": [
    "knnGraph = kNear(DirectedGraph, 6)\n",
    "DictofClusters = {}\n",
    "for i in nodeSet:\n",
    "    DictofClusters[i] = [i]"
   ]
  },
  {
   "cell_type": "code",
   "execution_count": 153,
   "metadata": {},
   "outputs": [],
   "source": [
    "def mnvForNodes(u, v):\n",
    "    listU = knnGraph[u]\n",
    "    listV = knnGraph[v]\n",
    "    rankOfVinU = 100\n",
    "    rankOfUinV = 100\n",
    "    \n",
    "    for i in range(len(listU)):\n",
    "        if listU[i]==v:\n",
    "            rankOfVinU = i+1\n",
    "            break\n",
    "            \n",
    "    for i in range(len(listV)):\n",
    "        if listV[i]==u:\n",
    "            rankOfUinV = i+1\n",
    "            break\n",
    "\n",
    "    return rankOfUinV+rankOfVinU"
   ]
  },
  {
   "cell_type": "code",
   "execution_count": 154,
   "metadata": {},
   "outputs": [],
   "source": [
    "def mnvForClusters(c1, c2):\n",
    "    cluster1 = DictofClusters[c1]\n",
    "    cluster2 = DictofClusters[c2]\n",
    "    s = 0\n",
    "    for u in cluster1:\n",
    "        for v in cluster2:\n",
    "            val = mnvForNodes(u, v)\n",
    "            s = s + val\n",
    "    length = len(cluster1) * len(cluster2)\n",
    "    return s/length"
   ]
  },
  {
   "cell_type": "code",
   "execution_count": 159,
   "metadata": {},
   "outputs": [],
   "source": [
    "def mutual_NN_neighbour(numofClusters, maxMNV):\n",
    "    global DictofClusters\n",
    "    mnvSet = set([])\n",
    "#     for all pairs of clusters, find the mnv and insert into the set\n",
    "    for c1 in nodeSet:\n",
    "        for c2 in nodeSet:\n",
    "            if c1!=c2:\n",
    "                currVal = mnvForClusters(c1, c2)\n",
    "                mnvSet.add((currVal, c1, c2))\n",
    "    totalClusters = len(DictofClusters)\n",
    "    print(\"All pair combination calculations done\")\n",
    "#     keep iterating while you didn't get required number of clusters\n",
    "    cnt = 0 \n",
    "    while totalClusters>numofClusters:\n",
    "        minCluster = min(mnvSet)\n",
    "        minU = minCluster[1]\n",
    "        minV = minCluster[2]\n",
    "        minNodes = [minU, minV]\n",
    "#         remove all pairs which are either of minU,minV\n",
    "        for c1 in DictofClusters:\n",
    "            for node in minNodes:\n",
    "                val = mnvForClusters(c1, node)\n",
    "                pair1 = (val, c1, node)\n",
    "                pair2 = (val, node, c1)\n",
    "                if pair1 in mnvSet:\n",
    "                    mnvSet.remove(pair1)\n",
    "                if pair2 in mnvSet:\n",
    "                    mnvSet.remove(pair2)\n",
    "#       remove two clusters and combine them into one\n",
    "        for v in DictofClusters[minV]:\n",
    "            DictofClusters[minU].append(v)\n",
    "        del DictofClusters[minV]\n",
    "#         insert all the mnvs of the new clusters with the clusters existing\n",
    "        for c1 in DictofClusters:\n",
    "            if minU!=c1:\n",
    "                currVal = mnvForClusters(c1, minU)\n",
    "                mnvSet.add((currVal, c1, minU))\n",
    "        print(\"Iteration \", cnt+1, \"completed\")\n",
    "        cnt+=1\n",
    "        totalClusters -=1\n",
    "#         remove all the elements computing with c1, c2\n",
    "# do the manipulations in the dictionary\n",
    "# calculate the clustered one with every other cluster\n",
    "# and push it into the set"
   ]
  },
  {
   "cell_type": "code",
   "execution_count": 160,
   "metadata": {
    "scrolled": true
   },
   "outputs": [
    {
     "name": "stdout",
     "output_type": "stream",
     "text": [
      "All pair combination calculations done\n",
      "Iteration  1 completed\n",
      "Iteration  2 completed\n",
      "Iteration  3 completed\n",
      "Iteration  4 completed\n",
      "Iteration  5 completed\n",
      "Iteration  6 completed\n",
      "Iteration  7 completed\n",
      "Iteration  8 completed\n",
      "Iteration  9 completed\n",
      "Iteration  10 completed\n"
     ]
    }
   ],
   "source": [
    "mutual_NN_neighbour(len(nodeSet)-10, 100)"
   ]
  },
  {
   "cell_type": "code",
   "execution_count": 161,
   "metadata": {},
   "outputs": [],
   "source": [
    "Dict = {}\n",
    "for x in DictofClusters:\n",
    "    if len(DictofClusters[x])>1:\n",
    "        print('hi')\n",
    "        Dict[x] = DictofClusters[x]\n",
    "w = csv.writer(open(\"Mutual_Nearest_Neighbor.csv\", \"w\"))\n",
    "for key, val in Dict.items():\n",
    "    w.writerow([key, val])"
   ]
  },
  {
   "cell_type": "code",
   "execution_count": 146,
   "metadata": {},
   "outputs": [
    {
     "name": "stdout",
     "output_type": "stream",
     "text": [
      "(-1, 2, 3)\n"
     ]
    }
   ],
   "source": [
    "mySet = {(1,2,3),(3,4,5),(0,5,6),(0,1,2),(0,3,4)}\n",
    "mySet.add((-1,2,3))\n",
    "x = min(mySet)\n",
    "print(x)"
   ]
  },
  {
   "cell_type": "code",
   "execution_count": 149,
   "metadata": {},
   "outputs": [
    {
     "ename": "AttributeError",
     "evalue": "'dict' object has no attribute 'add'",
     "output_type": "error",
     "traceback": [
      "\u001b[0;31m---------------------------------------------------------------------------\u001b[0m",
      "\u001b[0;31mAttributeError\u001b[0m                            Traceback (most recent call last)",
      "\u001b[0;32m<ipython-input-149-04061ac184ce>\u001b[0m in \u001b[0;36m<module>\u001b[0;34m\u001b[0m\n\u001b[1;32m      1\u001b[0m \u001b[0mmySet\u001b[0m \u001b[0;34m=\u001b[0m \u001b[0;34m{\u001b[0m\u001b[0;34m}\u001b[0m\u001b[0;34m\u001b[0m\u001b[0;34m\u001b[0m\u001b[0m\n\u001b[0;32m----> 2\u001b[0;31m \u001b[0mmySet\u001b[0m\u001b[0;34m.\u001b[0m\u001b[0madd\u001b[0m\u001b[0;34m(\u001b[0m\u001b[0;34m(\u001b[0m\u001b[0;36m1\u001b[0m\u001b[0;34m,\u001b[0m\u001b[0;36m2\u001b[0m\u001b[0;34m,\u001b[0m\u001b[0;36m3\u001b[0m\u001b[0;34m)\u001b[0m\u001b[0;34m)\u001b[0m\u001b[0;34m\u001b[0m\u001b[0;34m\u001b[0m\u001b[0m\n\u001b[0m",
      "\u001b[0;31mAttributeError\u001b[0m: 'dict' object has no attribute 'add'"
     ]
    }
   ],
   "source": [
    "mySet = {}\n",
    "mySet.add((1,2,3))"
   ]
  },
  {
   "cell_type": "code",
   "execution_count": null,
   "metadata": {},
   "outputs": [],
   "source": []
  }
 ],
 "metadata": {
  "colab": {
   "name": "Circular Trading.ipynb",
   "provenance": []
  },
  "kernelspec": {
   "display_name": "Python 3",
   "language": "python",
   "name": "python3"
  },
  "language_info": {
   "codemirror_mode": {
    "name": "ipython",
    "version": 3
   },
   "file_extension": ".py",
   "mimetype": "text/x-python",
   "name": "python",
   "nbconvert_exporter": "python",
   "pygments_lexer": "ipython3",
   "version": "3.7.1"
  }
 },
 "nbformat": 4,
 "nbformat_minor": 1
}
