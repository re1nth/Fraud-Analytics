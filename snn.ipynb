{
 "cells": [
  {
   "cell_type": "code",
   "execution_count": 1,
   "metadata": {
    "collapsed": true
   },
   "outputs": [],
   "source": [
    "import pandas as pd\n",
    "import numpy as np\n",
    "import networkx as nx"
   ]
  },
  {
   "cell_type": "markdown",
   "metadata": {},
   "source": [
    "# Mutual Nearest Neighbour"
   ]
  },
  {
   "cell_type": "code",
   "execution_count": 2,
   "metadata": {
    "collapsed": true
   },
   "outputs": [],
   "source": [
    "def mnvForNodes(u, v, knnGraph):\n",
    "    listU = knnGraph(u)\n",
    "    listV = knnGraph(v)\n",
    "    \n",
    "    rankOfVinU = 100\n",
    "    rankOfUinV = 100\n",
    "    \n",
    "    for i in range(len(listU)):\n",
    "        if listU[i]==v:\n",
    "            rankOfVinU = i+1\n",
    "            break\n",
    "    \n",
    "    for i in range(len(listU)):\n",
    "        if listV[i]==u:\n",
    "            rankOfUinV = i+1\n",
    "            break\n",
    "\n",
    "    return rankOfUinV+rankOfVinU"
   ]
  },
  {
   "cell_type": "code",
   "execution_count": 5,
   "metadata": {},
   "outputs": [],
   "source": [
    "def mnvForClusters(DictofClusters, c1, c2, knnGraph):\n",
    "    cluster1 = DictofClusters[c1]\n",
    "    cluster2 = DictofClusters[c2]\n",
    "    \n",
    "    s = 0\n",
    "    \n",
    "    for u in cluster1:\n",
    "        for v in cluster2:\n",
    "            val = mnvForNodes(u, v, knnGraph)\n",
    "            s = s + val\n",
    "    length = len(cluster1) * len(cluster2)\n",
    "    \n",
    "    return s/length"
   ]
  },
  {
   "cell_type": "code",
   "execution_count": 6,
   "metadata": {
    "collapsed": true
   },
   "outputs": [],
   "source": [
    "def mutual_NN_neighbour(DictofClusters, knnGraph, numofClusters, maxMNV):\n",
    "    while len(DictofClusters) > numofClusters:\n",
    "        minVal = 200\n",
    "        clusterToUnion1 = DictofClusters[0]\n",
    "        clusterToUnion2 = DictofClusters[1]\n",
    "        for c1 in DictofClusters:\n",
    "            for c2 in DictofClusters:\n",
    "                currVal = mnv(DictofClusters, c1, c2, knnGraph)\n",
    "                if (c1 != c2) and (currVal < minVal):\n",
    "                    minVal = currVal\n",
    "                    clusterToUnion1 = c1\n",
    "                    clusterToUnion2 = c2\n",
    "        if minVal > maxMNV:\n",
    "            break\n",
    "        for v in clusterToUnion2:\n",
    "            DictofClusters[clusterToUnion1].append(v)\n",
    "        del DictofClusters[clusterToUnion2]\n",
    "        \n",
    "    return DictofClusters\n",
    "        "
   ]
  },
  {
   "cell_type": "code",
   "execution_count": 9,
   "metadata": {},
   "outputs": [
    {
     "name": "stdout",
     "output_type": "stream",
     "text": [
      "32449\n"
     ]
    }
   ],
   "source": [
    "Dict = {}\n",
    "nodeSize = 32449\n",
    "for i in range(nodeSize):\n",
    "    Dict[i] = [i]\n",
    "print(len(Dict))"
   ]
  },
  {
   "cell_type": "code",
   "execution_count": null,
   "metadata": {
    "collapsed": true
   },
   "outputs": [],
   "source": []
  }
 ],
 "metadata": {
  "kernelspec": {
   "display_name": "Python 3",
   "language": "python",
   "name": "python3"
  },
  "language_info": {
   "codemirror_mode": {
    "name": "ipython",
    "version": 3
   },
   "file_extension": ".py",
   "mimetype": "text/x-python",
   "name": "python",
   "nbconvert_exporter": "python",
   "pygments_lexer": "ipython3",
   "version": "3.6.9"
  }
 },
 "nbformat": 4,
 "nbformat_minor": 2
}
