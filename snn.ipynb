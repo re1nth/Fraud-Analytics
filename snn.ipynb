{
  "nbformat": 4,
  "nbformat_minor": 0,
  "metadata": {
    "kernelspec": {
      "display_name": "Python 3",
      "language": "python",
      "name": "python3"
    },
    "language_info": {
      "codemirror_mode": {
        "name": "ipython",
        "version": 3
      },
      "file_extension": ".py",
      "mimetype": "text/x-python",
      "name": "python",
      "nbconvert_exporter": "python",
      "pygments_lexer": "ipython3",
      "version": "3.7.1"
    },
    "colab": {
      "name": "Circular Trading.ipynb",
      "provenance": []
    }
  },
  "cells": [
    {
      "cell_type": "markdown",
      "metadata": {
        "id": "XQfyafR2p4Pc",
        "colab_type": "text"
      },
      "source": [
        "### Analysis of the DataSet"
      ]
    },
    {
      "cell_type": "code",
      "metadata": {
        "id": "afMJwSagp4Pm",
        "colab_type": "code",
        "colab": {}
      },
      "source": [
        "import pandas as pd\n",
        "import numpy as np\n",
        "import networkx as nx"
      ],
      "execution_count": 0,
      "outputs": []
    },
    {
      "cell_type": "code",
      "metadata": {
        "id": "cjfSzkiSrvz-",
        "colab_type": "code",
        "outputId": "49df6445-23fe-4d24-8bf5-0b34aeed0726",
        "colab": {
          "resources": {
            "http://localhost:8080/nbextensions/google.colab/files.js": {
              "data": "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",
              "ok": true,
              "headers": [
                [
                  "content-type",
                  "application/javascript"
                ]
              ],
              "status": 200,
              "status_text": "OK"
            }
          },
          "base_uri": "https://localhost:8080/",
          "height": 87
        }
      },
      "source": [
        "from google.colab import files\n",
        "uploaded = files.upload()"
      ],
      "execution_count": 0,
      "outputs": [
        {
          "output_type": "display_data",
          "data": {
            "text/html": [
              "\n",
              "     <input type=\"file\" id=\"files-0dc56f04-f48d-4908-9986-a798b8e0103a\" name=\"files[]\" multiple disabled />\n",
              "     <output id=\"result-0dc56f04-f48d-4908-9986-a798b8e0103a\">\n",
              "      Upload widget is only available when the cell has been executed in the\n",
              "      current browser session. Please rerun this cell to enable.\n",
              "      </output>\n",
              "      <script src=\"/nbextensions/google.colab/files.js\"></script> "
            ],
            "text/plain": [
              "<IPython.core.display.HTML object>"
            ]
          },
          "metadata": {
            "tags": []
          }
        },
        {
          "output_type": "stream",
          "text": [
            "Saving dataset.csv to dataset.csv\n"
          ],
          "name": "stdout"
        }
      ]
    },
    {
      "cell_type": "markdown",
      "metadata": {
        "id": "sge7l6xnp4P5",
        "colab_type": "text"
      },
      "source": [
        "### Preprocessing"
      ]
    },
    {
      "cell_type": "code",
      "metadata": {
        "scrolled": true,
        "id": "VYmxVNaKp4P9",
        "colab_type": "code",
        "colab": {}
      },
      "source": [
        "def getSize(fileName):\n",
        "    dataFrame = pd.read_csv(fileName,delimiter=',')\n",
        "    traderList = list(dataFrame['Seller'])\n",
        "    traderList.extend(list(dataFrame['Buyer']))\n",
        "    traderSet = set(traderList)\n",
        "    traderSize = len(traderSet)\n",
        "    return traderSize"
      ],
      "execution_count": 0,
      "outputs": []
    },
    {
      "cell_type": "markdown",
      "metadata": {
        "id": "unSmwPn1p4QL",
        "colab_type": "text"
      },
      "source": [
        "### Undirected Graph generation"
      ]
    },
    {
      "cell_type": "code",
      "metadata": {
        "id": "IkZiDuInp4QO",
        "colab_type": "code",
        "colab": {}
      },
      "source": [
        "# total transaction amount between them is the weight\n",
        "def getUndirectedGraph(fileName):\n",
        "#     K represents k nearest neighbors\n",
        "    dataFrame = pd.read_csv(fileName, delimiter =',')\n",
        "    nodeSize = getSize(fileName)\n",
        "    myGraph = nx.Graph()\n",
        "#     Added nodes to the Graph\n",
        "    myGraph.add_nodes_from(list(range(1, nodeSize+1)))\n",
        "#    Adding edges with weights to the Graph\n",
        "    buyer = []\n",
        "    seller = []\n",
        "    trader = []\n",
        "    for ind in dataFrame.index:\n",
        "        u = dataFrame['Seller'][ind]\n",
        "        v = dataFrame['Buyer'][ind]\n",
        "        seller.append(u)\n",
        "        buyer.append(v)\n",
        "    \n",
        "    vSeller = np.zeros(nodeSize+1)\n",
        "    vBuyer = np.zeros(nodeSize+1)\n",
        "\n",
        "    for x in seller:\n",
        "      vSeller[x] =1 \n",
        "    for x in buyer:\n",
        "      vBuyer[x] = 1 \n",
        "\n",
        "    for ind in dataFrame.index:\n",
        "        u = dataFrame['Seller'][ind]\n",
        "        v = dataFrame['Buyer'][ind]\n",
        "        w = dataFrame['Amt'][ind]\n",
        "        if (vSeller[u]==1) and (vBuyer[u]==1) and (vSeller[v]==1) and (vBuyer[v]==1) and(u!=v):\n",
        "          trader.append(u)\n",
        "          trader.append(v)\n",
        "          if u in list(myGraph.adj[v]):\n",
        "              myGraph[u][v]['weight']+=w\n",
        "          else :\n",
        "              myGraph.add_edge(u, v, weight = w)\n",
        "    return (myGraph,list(set(trader)))\n",
        "\n",
        "(undirectedGraph,nodeSet) = getUndirectedGraph('dataset.csv')"
      ],
      "execution_count": 0,
      "outputs": []
    },
    {
      "cell_type": "markdown",
      "metadata": {
        "id": "9gg63tdNp4Qc",
        "colab_type": "text"
      },
      "source": [
        "### Directed Graph generation"
      ]
    },
    {
      "cell_type": "code",
      "metadata": {
        "id": "BFgWejo0p4Qg",
        "colab_type": "code",
        "colab": {}
      },
      "source": [
        "def getDirectedGraph(fileName):\n",
        "    dataFrame = pd.read_csv(fileName, delimiter =',')\n",
        "    nodeSize = getSize(fileName)\n",
        "    myGraph = nx.DiGraph()\n",
        "#     Added nodes to the Graph\n",
        "    myGraph.add_nodes_from(list(range(1, nodeSize+1)))\n",
        "#    Adding edges with weights to the Graph\n",
        "    cnt = 0 \n",
        "    for ind in dataFrame.index:\n",
        "        cnt = (cnt+1)\n",
        "        u = dataFrame['Seller'][ind]\n",
        "        v = dataFrame['Buyer'][ind]\n",
        "        w = dataFrame['Amt'][ind]\n",
        "        if u in list(myGraph.adj[v]):\n",
        "            myGraph[v][u]['weight']+=w\n",
        "        else :\n",
        "            myGraph.add_edge(u, v, weight = w)\n",
        "        if(cnt == 1000): break\n",
        "    return myGraph\n",
        "\n",
        "DirectedGraph = getDirectedGraph('dataset.csv')"
      ],
      "execution_count": 0,
      "outputs": []
    },
    {
      "cell_type": "markdown",
      "metadata": {
        "id": "Eod2_nw7p4Qr",
        "colab_type": "text"
      },
      "source": [
        "### Shared nearest neighbour Clustering Algorithm"
      ]
    },
    {
      "cell_type": "markdown",
      "metadata": {
        "id": "uwTaVRc4p4Qv",
        "colab_type": "text"
      },
      "source": [
        "### K-Nearest Neighbour"
      ]
    },
    {
      "cell_type": "code",
      "metadata": {
        "id": "kqnl8-KKp4Qx",
        "colab_type": "code",
        "outputId": "74bb0eba-a8da-48fb-da5b-9498a7b24560",
        "colab": {
          "base_uri": "https://localhost:8080/",
          "height": 54
        }
      },
      "source": [
        "%%time\n",
        "def kNear(graph, K):\n",
        "    Dict = {}\n",
        "    for node in nodeSet:\n",
        "        neighbors = np.array(sorted(graph[node].items(), key=lambda e: e[1][\"weight\"], reverse=True))\n",
        "        if(neighbors.shape[0]<K):\n",
        "            neighborList = [x[0] for x in neighbors]\n",
        "        else : \n",
        "            neighbors = neighbors[:K]\n",
        "            neighborList = [x[0] for x in neighbors]\n",
        "        Dict[node]=neighborList\n",
        "    return Dict\n",
        "\n",
        "knnGraph = kNear(DirectedGraph, 10)"
      ],
      "execution_count": 128,
      "outputs": [
        {
          "output_type": "stream",
          "text": [
            "CPU times: user 184 ms, sys: 3.01 ms, total: 187 ms\n",
            "Wall time: 182 ms\n"
          ],
          "name": "stdout"
        }
      ]
    },
    {
      "cell_type": "markdown",
      "metadata": {
        "id": "ycCPLjESp4RA",
        "colab_type": "text"
      },
      "source": [
        "### Union find algorithm"
      ]
    },
    {
      "cell_type": "code",
      "metadata": {
        "id": "POXZakY9p4RC",
        "colab_type": "code",
        "colab": {}
      },
      "source": [
        "nodeSize = getSize('dataset.csv')\n",
        "clusterId = np.array(list(range(nodeSize+1)))\n",
        "clusterSize = np.ones(nodeSize, dtype = int)\n",
        "def parent(u):\n",
        "    while clusterId[u]!=u:\n",
        "        u = clusterId[u]\n",
        "    return u\n",
        "def common(u, v):\n",
        "    neighborU = knnGraph[u]\n",
        "    neighborV = knnGraph[v]\n",
        "    cnt = 0 \n",
        "    for x in neighborU:\n",
        "        if x in neighborV:\n",
        "            cnt = cnt+1\n",
        "    return cnt\n",
        "def union(u, v):\n",
        "    x = parent(u)\n",
        "    y = parent(v)\n",
        "    global clusterId\n",
        "    global clusterSize\n",
        "    if clusterSize[x]>clusterSize[y]:\n",
        "        clusterId[y] = x\n",
        "        clusterSize[x]+=clusterSize[y]\n",
        "    else :\n",
        "        clusterId[x] = y \n",
        "        clusterSize[y]+=clusterSize[x]"
      ],
      "execution_count": 0,
      "outputs": []
    },
    {
      "cell_type": "markdown",
      "metadata": {
        "id": "w_LYEd44p4RP",
        "colab_type": "text"
      },
      "source": [
        "### Shared Nearest Neighbor Algorithm"
      ]
    },
    {
      "cell_type": "code",
      "metadata": {
        "id": "14QLZuqep4RS",
        "colab_type": "code",
        "colab": {
          "base_uri": "https://localhost:8080/",
          "height": 54
        },
        "outputId": "95f0c5ac-31be-4912-fff2-bfcf9ec031d0"
      },
      "source": [
        "%%time\n",
        "kt = 2\n",
        "for u in nodeSet:\n",
        "    for v in nodeSet:\n",
        "        x = parent(u)\n",
        "        y = parent(v)\n",
        "        if x!= y :\n",
        "            if u in knnGraph[u] and v in knnGraph[u]:\n",
        "                if common(u,v)>=kt:\n",
        "                    union(u,v)\n",
        "# union find\n",
        "# set - > all nodes, each node as it's own cluster\n",
        "# for every (u,v) in G : \n",
        "# if v not in C(u) && if k(u) && k(v)>= kt && u->knn(V) && v->knn(u):\n",
        "# remove c(u), c(v) \n",
        "# add c(u)union c(v) to set S"
      ],
      "execution_count": 130,
      "outputs": [
        {
          "output_type": "stream",
          "text": [
            "CPU times: user 41.9 s, sys: 7.89 ms, total: 41.9 s\n",
            "Wall time: 42 s\n"
          ],
          "name": "stdout"
        }
      ]
    },
    {
      "cell_type": "markdown",
      "metadata": {
        "id": "epFLPJtqp4Rc",
        "colab_type": "text"
      },
      "source": [
        "### Final dictionary of Shared nearest neighbor"
      ]
    },
    {
      "cell_type": "code",
      "metadata": {
        "scrolled": true,
        "id": "E_KitADJp4Rg",
        "colab_type": "code",
        "colab": {}
      },
      "source": [
        "SNNClust = {}\n",
        "vis = np.zeros(nodeSize+1, dtype = int)\n",
        "for node in range(1, nodeSize+1):\n",
        "    currId = parent(node)\n",
        "    if vis[currId]==0:\n",
        "         SNNClust[currId]=[node]\n",
        "    else : \n",
        "        SNNClust[currId].append(node)\n",
        "    vis[currId] = 1"
      ],
      "execution_count": 0,
      "outputs": []
    },
    {
      "cell_type": "code",
      "metadata": {
        "id": "3EOxHp5Bp4R7",
        "colab_type": "code",
        "outputId": "0e8d6c31-ed35-40e1-ad83-a3b9f011e8f6",
        "colab": {
          "base_uri": "https://localhost:8080/",
          "height": 35
        }
      },
      "source": [
        "Dict = {}\n",
        "for x in SNNClust:\n",
        "  if len(SNNClust[x])>1:\n",
        "    Dict[x]=SNNClust[x]\n",
        "print(len(Dict))"
      ],
      "execution_count": 137,
      "outputs": [
        {
          "output_type": "stream",
          "text": [
            "24\n"
          ],
          "name": "stdout"
        }
      ]
    },
    {
      "cell_type": "code",
      "metadata": {
        "id": "u7TnwZ9q_sVu",
        "colab_type": "code",
        "colab": {}
      },
      "source": [
        "import csv\n",
        "\n",
        "w = csv.writer(open(\"output.csv\", \"w\"))\n",
        "for key, val in Dict.items():\n",
        "    w.writerow([key, val])\n",
        "\n",
        "# import csv\n",
        "\n",
        "# with open('output.csv', 'wb') as myfile:\n",
        "#     wr = csv.writer(myfile, quoting=csv.QUOTE_ALL)\n",
        "#     wr.writerow(Dicto)"
      ],
      "execution_count": 0,
      "outputs": []
    },
    {
      "cell_type": "code",
      "metadata": {
        "id": "4V9qkBQrE0Sc",
        "colab_type": "code",
        "colab": {
          "base_uri": "https://localhost:8080/",
          "height": 201
        },
        "outputId": "7caeff0c-302a-47a7-b27e-eb3bb9119bae"
      },
      "source": [
        "clusterList = [727, 9099, 13838, 14917]\n",
        "for u in clusterList:\n",
        "  for v in clusterList:\n",
        "    if u!=v:\n",
        "      if u in undirectedGraph.adj[v]:\n",
        "        print(u, v)"
      ],
      "execution_count": 165,
      "outputs": [
        {
          "output_type": "stream",
          "text": [
            "727 9099\n",
            "727 13838\n",
            "727 14917\n",
            "9099 727\n",
            "9099 13838\n",
            "13838 727\n",
            "13838 9099\n",
            "13838 14917\n",
            "14917 727\n",
            "14917 13838\n"
          ],
          "name": "stdout"
        }
      ]
    },
    {
      "cell_type": "markdown",
      "metadata": {
        "id": "mByNt_rtp4SE",
        "colab_type": "text"
      },
      "source": [
        "### Playing with NetworkX"
      ]
    },
    {
      "cell_type": "code",
      "metadata": {
        "id": "K2exwjYDp4SG",
        "colab_type": "code",
        "colab": {}
      },
      "source": [
        "import networkx as nx"
      ],
      "execution_count": 0,
      "outputs": []
    },
    {
      "cell_type": "code",
      "metadata": {
        "id": "FTSJmM79p4SN",
        "colab_type": "code",
        "colab": {}
      },
      "source": [
        "# Creating a graph\n",
        "G = nx.Graph()"
      ],
      "execution_count": 0,
      "outputs": []
    },
    {
      "cell_type": "code",
      "metadata": {
        "id": "VrF_toaBp4SW",
        "colab_type": "code",
        "colab": {}
      },
      "source": [
        "# Add nodes in the graph\n",
        "G.add_node(1)\n",
        "G.add_nodes_from([2,3])"
      ],
      "execution_count": 0,
      "outputs": []
    },
    {
      "cell_type": "code",
      "metadata": {
        "id": "PG907iNap4Sf",
        "colab_type": "code",
        "colab": {}
      },
      "source": [
        "# Add edges in the graph with weight\n",
        "G.add_edge(1, 2, weight=4.7 )\n",
        "G.add_edge(1,3, weight = 2.3)"
      ],
      "execution_count": 0,
      "outputs": []
    },
    {
      "cell_type": "code",
      "metadata": {
        "id": "UrIkIgYPp4Sm",
        "colab_type": "code",
        "colab": {}
      },
      "source": [
        "# Accessing and modifying weight of a graph\n",
        "G[1][2]['weight']+=2"
      ],
      "execution_count": 0,
      "outputs": []
    },
    {
      "cell_type": "code",
      "metadata": {
        "id": "l5kl_Kkwp4Sv",
        "colab_type": "code",
        "colab": {}
      },
      "source": [
        "# Getting number of nodes and edges in the graph\n",
        "print(G.number_of_nodes())\n",
        "print(G.number_of_edges())"
      ],
      "execution_count": 0,
      "outputs": []
    },
    {
      "cell_type": "code",
      "metadata": {
        "id": "4CwinovSp4S0",
        "colab_type": "code",
        "colab": {}
      },
      "source": [
        "# Node list and Edge List\n",
        "# Neighbor List\n",
        "nodeList = list(G.nodes)\n",
        "edgeList = list(G.edges)\n",
        "n1List = list(G.adj[1])\n",
        "n2List = list(G.adj[2])\n",
        "n3List = list(G.adj[4])\n",
        "print(nodeList)\n",
        "print(edgeList)\n",
        "print(n1List)\n",
        "print(n2List)\n",
        "print(n3List)"
      ],
      "execution_count": 0,
      "outputs": []
    },
    {
      "cell_type": "code",
      "metadata": {
        "id": "HMAEb-40p4S8",
        "colab_type": "code",
        "colab": {}
      },
      "source": [
        "# Remove nodes and edges\n",
        "G.remove_edge(1,2)"
      ],
      "execution_count": 0,
      "outputs": []
    },
    {
      "cell_type": "code",
      "metadata": {
        "id": "0i5xshSWp4TD",
        "colab_type": "code",
        "outputId": "9f6b2683-51d1-4ed5-b064-7496f9591e46",
        "colab": {}
      },
      "source": [
        "# Creation of diGraph\n",
        "# edges will be doubled\n",
        "H = nx.DiGraph()\n",
        "H.add_node(4)\n",
        "H.add_edge(1,2, weight=2.3)\n",
        "H.add_edge(1,2, weight = 3.2)\n",
        "H.add_edge(2, 1, weight=3.2)\n",
        "H.add_edge(1, 3, weight = 4.5)\n",
        "print(list(H.adj[4]))\n",
        "for (u, v, wt) in H.edges.data('weight'):\n",
        "    print('(%d, %d, %.3f)' % (u, v, wt))\n",
        "print(list(H.edges))\n",
        "S = H.to_undirected()\n",
        "for (u, v, wt) in S.edges.data('weight'):\n",
        "    print('(%d, %d, %.3f)' % (u, v, wt))\n",
        "print(list(S.edges))"
      ],
      "execution_count": 0,
      "outputs": [
        {
          "output_type": "stream",
          "text": [
            "[]\n",
            "(1, 2, 3.200)\n",
            "(1, 3, 4.500)\n",
            "(2, 1, 3.200)\n",
            "[(1, 2), (1, 3), (2, 1)]\n",
            "(1, 2, 3.200)\n",
            "(1, 3, 4.500)\n",
            "[(1, 2), (1, 3)]\n"
          ],
          "name": "stdout"
        }
      ]
    },
    {
      "cell_type": "code",
      "metadata": {
        "id": "gmvaJiAkp4TM",
        "colab_type": "code",
        "outputId": "5fb97eec-79be-484c-e751-2e9e651bb543",
        "colab": {}
      },
      "source": [
        "# creationg of normal Graph\n",
        "# edges weight will be added\n",
        "S = nx.Graph()\n",
        "S.add_edge(1,2, weight=2.3)\n",
        "S.add_edge(1,4, weight = 2.4)\n",
        "S.add_edge(2, 1, weight=3.2)\n",
        "S.add_edge(1, 3, weight = 2.0)\n",
        "S.add_edge(2,3,weight=2.8)\n",
        "S[1][2]['weight']+=2.0\n",
        "S[2][1]['weight']+=10.0\n",
        "print(S[1][2]['weight'])\n",
        "foo = np.array((sorted(S[1].items(), key=lambda e: e[1][\"weight\"], reverse=True)))[:K]\n",
        "print(foo.shape)\n",
        "print(foo)\n",
        "for (x, y) in foo:\n",
        "    print(x)"
      ],
      "execution_count": 0,
      "outputs": [
        {
          "output_type": "stream",
          "text": [
            "15.2\n",
            "(3, 2)\n",
            "[[2 {'weight': 15.2}]\n",
            " [4 {'weight': 2.4}]\n",
            " [3 {'weight': 2.0}]]\n",
            "2\n",
            "4\n",
            "3\n"
          ],
          "name": "stdout"
        }
      ]
    },
    {
      "cell_type": "code",
      "metadata": {
        "id": "1J6F_iJlp4TU",
        "colab_type": "code",
        "colab": {}
      },
      "source": [
        "# Accessing edges and neighbors\n",
        "print(G[1][3]['weight'])\n",
        "print(G[1])"
      ],
      "execution_count": 0,
      "outputs": []
    },
    {
      "cell_type": "code",
      "metadata": {
        "id": "mQXHWogJp4Tb",
        "colab_type": "code",
        "colab": {}
      },
      "source": [
        ""
      ],
      "execution_count": 0,
      "outputs": []
    }
  ]
}